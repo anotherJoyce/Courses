{
  "nbformat": 4,
  "nbformat_minor": 0,
  "metadata": {
    "colab": {
      "name": "8011 Data Management.ipynb",
      "provenance": [],
      "collapsed_sections": []
    },
    "kernelspec": {
      "name": "python3",
      "display_name": "Python 3"
    },
    "language_info": {
      "name": "python"
    }
  },
  "cells": [
    {
      "cell_type": "markdown",
      "metadata": {
        "id": "AAKG_kIv_-3C"
      },
      "source": [
        "# Transaction"
      ]
    },
    {
      "cell_type": "code",
      "metadata": {
        "id": "ZB_7kGQI_y8K"
      },
      "source": [
        "# -*- coding: utf-8 -*-\n",
        "\"\"\"\n",
        "Note that besides the Transaction class, we also defined a TransactionSchema. \n",
        "We will use the latter to deserialize and serialize instances of Transaction from and to JSON objects. \n",
        "This class inherits from another superclass called Schema that is defined on a package yet to be installed.\n",
        "\n",
        "\n",
        "\"\"\"\n",
        "import datetime as dt\n",
        "\n",
        "# from marshmallow import Schema, fields\n",
        "'''\n",
        "# Marshmallow is a popular Python package for converting complex datatypes, such as objects, to and from native Python datatypes. \n",
        "# Basically, we can use this package to validate, serialize, and deserialize data. We won't dive into validation in this article, \n",
        "# as it will be the subject of another one. Though, as mentioned, we will use marshmallow to serialize and deserialize entities through our endpoints.\n",
        "# \n",
        "# '''\n",
        "# class Transaction():\n",
        "#   def __init__(self, description, amount, type):\n",
        "#     self.description = description\n",
        "#     self.amount = amount\n",
        "#     self.created_at = dt.datetime.now()\n",
        "#     self.type = type\n",
        "#\n",
        "#   def __repr__(self):\n",
        "#     return '<Transaction(name={self.description!r})>'.format(self=self)\n",
        "#\n",
        "#   def __str__(self):\n",
        "#       return  f\"{self.type:15s}{self.description:20s}{self.amount:10.2f}\"\n",
        "#\n",
        "# class TransactionSchema(Schema):\n",
        "#   description = fields.Str()\n",
        "#   amount = fields.Number()\n",
        "#   created_at = fields.Date()\n",
        "#   type = fields.Str()\n",
        "\n",
        "\n",
        "\n",
        "class car():\n",
        "  def _init_(self,veno,color,owner):\n",
        "    self.no=veno\n",
        "    self.colour=color\n",
        "    self.owner=owner\n",
        "  def wholeCar(self):\n",
        "    return self.owner\n",
        "\n",
        "\n",
        "if __name__==\"__main__\":\n",
        "  myCar=car('SGC1112','red','Joy')\n",
        "  yourCar=car('SGC1113','blue','Mike')\n",
        "  print(\"my car belongs to\",myCar.wholeCar())\n",
        "\n",
        "\n",
        "\n",
        "\n",
        "\n"
      ],
      "execution_count": null,
      "outputs": []
    },
    {
      "cell_type": "markdown",
      "metadata": {
        "id": "IdFMj2sdABiw"
      },
      "source": [
        "# Income"
      ]
    },
    {
      "cell_type": "code",
      "metadata": {
        "id": "kpLSomDIAG06"
      },
      "source": [
        "# -*- coding: utf-8 -*-\n",
        "\"\"\"\n",
        "Created on Sat Mar  6 23:16:48 2021\n",
        "\n",
        "@author: \n",
        "\"\"\"\n",
        "\n",
        "\n",
        "#from marshmallow import post_load\n",
        "\n",
        "import transaction #import Transaction, TransactionSchema\n",
        "import transaction_type  #import TransactionType\n",
        "\n",
        "\n",
        "class Income(transaction.Transaction):\n",
        "  def __init__(self, description, amount):\n",
        "    super(Income, self).__init__(description, amount, transaction_type.TransactionType.INCOME)\n",
        "\n",
        "\n",
        "\n",
        "class IncomeSchema(transaction.TransactionSchema):\n",
        "#  @post_load\n",
        "  def make_income(self, data):\n",
        "    return Income(**data)"
      ],
      "execution_count": null,
      "outputs": []
    },
    {
      "cell_type": "markdown",
      "metadata": {
        "id": "YYOm_pOLALfq"
      },
      "source": [
        "#transaction_type"
      ]
    },
    {
      "cell_type": "code",
      "metadata": {
        "id": "2zaxroYYANmb"
      },
      "source": [
        "# -*- coding: utf-8 -*-\n",
        "\"\"\"\n",
        "Created on Sat Mar  6 23:18:26 2021\n",
        "\n",
        "@author: \n",
        "\"\"\"\n",
        "\n",
        "\n",
        "from enum import Enum\n",
        "\n",
        "\n",
        "class TransactionType(Enum):\n",
        "  INCOME = \"INCOME\"\n",
        "  EXPENSE = \"EXPENSE\""
      ],
      "execution_count": null,
      "outputs": []
    },
    {
      "cell_type": "markdown",
      "metadata": {
        "id": "bzyh27B3ARAZ"
      },
      "source": [
        "# Client"
      ]
    },
    {
      "cell_type": "code",
      "metadata": {
        "id": "PWxBdOpUAV3B"
      },
      "source": [
        "# -*- coding: utf-8 -*-\n",
        "\"\"\"\n",
        "Created on Sat Mar  6 23:20:18 2021\n",
        "\n",
        "@author: \n",
        "\"\"\"\n",
        "\n",
        "import expense \n",
        "import income\n",
        "import transaction_type \n",
        "\n",
        "\n",
        "transactions = [\n",
        "  income.Income('Salary', 5000),\n",
        "  income.Income('Dividends', 200),\n",
        "  expense.Expense('pizza', 50),\n",
        "  expense.Expense('Rock Concert', 100)\n",
        "]\n",
        "\n",
        "\n",
        "def get_incomes():\n",
        "  schema = income.IncomeSchema(many=True)\n",
        "  incomes = schema.dump(\n",
        "    filter(lambda t: t.type == transaction_type.TransactionType.INCOME, transactions)\n",
        "  )\n",
        "  return incomes\n",
        "\n",
        "\n",
        "def add_income():\n",
        "  transactions.append(income.Income(input(\"Enter Expense Narration\"), float(input(\"Enter Amount\"))))\n",
        "  return \"\", 204\n",
        "\n",
        "\n",
        "\n",
        "def get_expenses():\n",
        "  schema = expense.ExpenseSchema(many=True)\n",
        "  expenses = schema.dump(\n",
        "      filter(lambda t: t.type == transaction_type.TransactionType.EXPENSE, transactions)\n",
        "  )\n",
        "  return expenses\n",
        "\n",
        "\n",
        "\n",
        "def add_expense():\n",
        "  transactions.append(expense.Expense(input(\"Enter Expense Narration\"), float(input(\"Enter Amount\"))))\n",
        "  return \"\", 204\n",
        "\n",
        "\n",
        "if __name__ == \"__main__\":\n",
        "    menu =''' Please select 1 option:\n",
        "        1. show income\n",
        "        2. show expenses\n",
        "        3. add income\n",
        "        4. add expenses\n",
        "        X. Exit\n",
        "        '''\n",
        "    while True:\n",
        "        print(menu)\n",
        "        option = input(\"Please enter a choice above\").upper()\n",
        "        if option =='1':\n",
        "            for each in get_incomes():\n",
        "                print(each)\n",
        "        elif option =='2':\n",
        "            for each in get_expenses():\n",
        "                print(each)\n",
        "        elif option =='3':\n",
        "            add_income()\n",
        "            for each in get_incomes():\n",
        "                print(each)\n",
        "        elif option =='4':\n",
        "            add_expense()\n",
        "            for each in get_expenses():\n",
        "                print(each)      \n",
        "        elif option =='X':\n",
        "            break\n",
        "    "
      ],
      "execution_count": null,
      "outputs": []
    },
    {
      "cell_type": "markdown",
      "metadata": {
        "id": "gZjdFxRnAZ24"
      },
      "source": [
        "Expense"
      ]
    },
    {
      "cell_type": "code",
      "metadata": {
        "id": "fBvsu-G3AdRC"
      },
      "source": [
        "# -*- coding: utf-8 -*-\n",
        "\"\"\"\n",
        "Created on Sat Mar  6 23:18:51 2021\n",
        "\n",
        "@author: \n",
        "\"\"\"\n",
        "\n",
        "\n",
        "#from marshmallow import post_load\n",
        "\n",
        "import transaction #import Transaction, TransactionSchema\n",
        "import transaction_type  #import TransactionType\n",
        "\n",
        "\n",
        "class Expense(transaction.Transaction):\n",
        "  def __init__(self, description, amount):\n",
        "    super(Expense, self).__init__(description, -abs(amount), transaction_type.TransactionType.EXPENSE)\n",
        "\n",
        "\n",
        "\n",
        "class ExpenseSchema(transaction.TransactionSchema):\n",
        "#  @post_load\n",
        "  def make_expense(self, data):\n",
        "    return Expense(**data)"
      ],
      "execution_count": null,
      "outputs": []
    }
  ]
}
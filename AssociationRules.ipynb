{
  "nbformat": 4,
  "nbformat_minor": 0,
  "metadata": {
    "colab": {
      "name": "AssociationRules.ipynb",
      "provenance": [],
      "collapsed_sections": []
    },
    "kernelspec": {
      "display_name": "Python 3",
      "language": "python",
      "name": "python3"
    },
    "language_info": {
      "codemirror_mode": {
        "name": "ipython",
        "version": 3
      },
      "file_extension": ".py",
      "mimetype": "text/x-python",
      "name": "python",
      "nbconvert_exporter": "python",
      "pygments_lexer": "ipython3",
      "version": "3.6.8"
    }
  },
  "cells": [
    {
      "cell_type": "markdown",
      "metadata": {
        "id": "eN4iNh8nro_h"
      },
      "source": [
        "## Installation via pip\n"
      ]
    },
    {
      "cell_type": "code",
      "metadata": {
        "colab": {
          "base_uri": "https://localhost:8080/",
          "height": 255
        },
        "id": "LWM3H5tUrqqE",
        "outputId": "97f7fd64-b288-49b6-d3d4-5b8a55d95ca6"
      },
      "source": [
        "!pip install mlxtend  "
      ],
      "execution_count": null,
      "outputs": [
        {
          "output_type": "stream",
          "text": [
            "Requirement already satisfied: mlxtend in c:\\programdata\\anaconda2\\envs\\datascience3\\lib\\site-packages (0.17.2)\n",
            "Requirement already satisfied: setuptools in c:\\programdata\\anaconda2\\envs\\datascience3\\lib\\site-packages (from mlxtend) (40.6.3)\n",
            "Requirement already satisfied: joblib>=0.13.2 in c:\\programdata\\anaconda2\\envs\\datascience3\\lib\\site-packages (from mlxtend) (0.16.0)\n",
            "Requirement already satisfied: scipy>=1.2.1 in c:\\programdata\\anaconda2\\envs\\datascience3\\lib\\site-packages (from mlxtend) (1.5.1)\n",
            "Requirement already satisfied: numpy>=1.16.2 in c:\\programdata\\anaconda2\\envs\\datascience3\\lib\\site-packages (from mlxtend) (1.19.1)\n",
            "Requirement already satisfied: scikit-learn>=0.20.3 in c:\\programdata\\anaconda2\\envs\\datascience3\\lib\\site-packages (from mlxtend) (0.23.1)\n",
            "Requirement already satisfied: matplotlib>=3.0.0 in c:\\programdata\\anaconda2\\envs\\datascience3\\lib\\site-packages (from mlxtend) (3.0.2)\n",
            "Requirement already satisfied: pandas>=0.24.2 in c:\\programdata\\anaconda2\\envs\\datascience3\\lib\\site-packages (from mlxtend) (1.0.5)\n",
            "Requirement already satisfied: threadpoolctl>=2.0.0 in c:\\programdata\\anaconda2\\envs\\datascience3\\lib\\site-packages (from scikit-learn>=0.20.3->mlxtend) (2.1.0)\n",
            "Requirement already satisfied: cycler>=0.10 in c:\\programdata\\anaconda2\\envs\\datascience3\\lib\\site-packages (from matplotlib>=3.0.0->mlxtend) (0.10.0)\n",
            "Requirement already satisfied: kiwisolver>=1.0.1 in c:\\programdata\\anaconda2\\envs\\datascience3\\lib\\site-packages (from matplotlib>=3.0.0->mlxtend) (1.0.1)\n",
            "Requirement already satisfied: pyparsing!=2.0.4,!=2.1.2,!=2.1.6,>=2.0.1 in c:\\programdata\\anaconda2\\envs\\datascience3\\lib\\site-packages (from matplotlib>=3.0.0->mlxtend) (2.3.1)\n",
            "Requirement already satisfied: python-dateutil>=2.1 in c:\\programdata\\anaconda2\\envs\\datascience3\\lib\\site-packages (from matplotlib>=3.0.0->mlxtend) (2.7.5)\n",
            "Requirement already satisfied: pytz>=2017.2 in c:\\programdata\\anaconda2\\envs\\datascience3\\lib\\site-packages (from pandas>=0.24.2->mlxtend) (2018.9)\n",
            "Requirement already satisfied: six in c:\\programdata\\anaconda2\\envs\\datascience3\\lib\\site-packages (from cycler>=0.10->matplotlib>=3.0.0->mlxtend) (1.12.0)\n"
          ],
          "name": "stdout"
        }
      ]
    },
    {
      "cell_type": "markdown",
      "metadata": {
        "id": "ZXg67h_Cr7fZ"
      },
      "source": [
        "# Apriori in python\n",
        "The apriori function expects data in a one-hot encoded pandas DataFrame. Suppose we have the following transaction data:"
      ]
    },
    {
      "cell_type": "code",
      "metadata": {
        "id": "KZd-rGverr6u"
      },
      "source": [
        "# Sample dataset from documentation\n",
        "# http://rasbt.github.io/mlxtend/user_guide/frequent_patterns/association_rules/#association-rules-generation-from-frequent-itemsets\n",
        "# Refer to Prof's slide\n",
        "dataset = [['Milk', 'Onion', 'Nutmeg', 'Kidney Beans', 'Eggs', 'Yogurt'],\n",
        "           ['Dill', 'Onion', 'Nutmeg', 'Kidney Beans', 'Eggs', 'Yogurt'],\n",
        "           ['Milk', 'Apple', 'Kidney Beans', 'Eggs'],\n",
        "           ['Milk', 'Unicorn', 'Corn', 'Kidney Beans', 'Yogurt'],\n",
        "           ['Corn', 'Onion', 'Onion', 'Kidney Beans', 'Ice cream', 'Eggs']]\n"
      ],
      "execution_count": null,
      "outputs": []
    },
    {
      "cell_type": "code",
      "metadata": {
        "colab": {
          "base_uri": "https://localhost:8080/",
          "height": 204
        },
        "id": "GIdIjtyLrxy5",
        "outputId": "9c030590-e3ea-4688-dd67-85e8d429d9e1"
      },
      "source": [
        "import pandas as pd\n",
        "from mlxtend.preprocessing import TransactionEncoder\n",
        "\n",
        "te = TransactionEncoder()\n",
        "te_ary = te.fit(dataset).transform(dataset)\n",
        "df = pd.DataFrame(te_ary, columns=te.columns_)\n",
        "df"
      ],
      "execution_count": null,
      "outputs": [
        {
          "output_type": "execute_result",
          "data": {
            "text/html": [
              "<div>\n",
              "<style scoped>\n",
              "    .dataframe tbody tr th:only-of-type {\n",
              "        vertical-align: middle;\n",
              "    }\n",
              "\n",
              "    .dataframe tbody tr th {\n",
              "        vertical-align: top;\n",
              "    }\n",
              "\n",
              "    .dataframe thead th {\n",
              "        text-align: right;\n",
              "    }\n",
              "</style>\n",
              "<table border=\"1\" class=\"dataframe\">\n",
              "  <thead>\n",
              "    <tr style=\"text-align: right;\">\n",
              "      <th></th>\n",
              "      <th>Apple</th>\n",
              "      <th>Corn</th>\n",
              "      <th>Dill</th>\n",
              "      <th>Eggs</th>\n",
              "      <th>Ice cream</th>\n",
              "      <th>Kidney Beans</th>\n",
              "      <th>Milk</th>\n",
              "      <th>Nutmeg</th>\n",
              "      <th>Onion</th>\n",
              "      <th>Unicorn</th>\n",
              "      <th>Yogurt</th>\n",
              "    </tr>\n",
              "  </thead>\n",
              "  <tbody>\n",
              "    <tr>\n",
              "      <th>0</th>\n",
              "      <td>False</td>\n",
              "      <td>False</td>\n",
              "      <td>False</td>\n",
              "      <td>True</td>\n",
              "      <td>False</td>\n",
              "      <td>True</td>\n",
              "      <td>True</td>\n",
              "      <td>True</td>\n",
              "      <td>True</td>\n",
              "      <td>False</td>\n",
              "      <td>True</td>\n",
              "    </tr>\n",
              "    <tr>\n",
              "      <th>1</th>\n",
              "      <td>False</td>\n",
              "      <td>False</td>\n",
              "      <td>True</td>\n",
              "      <td>True</td>\n",
              "      <td>False</td>\n",
              "      <td>True</td>\n",
              "      <td>False</td>\n",
              "      <td>True</td>\n",
              "      <td>True</td>\n",
              "      <td>False</td>\n",
              "      <td>True</td>\n",
              "    </tr>\n",
              "    <tr>\n",
              "      <th>2</th>\n",
              "      <td>True</td>\n",
              "      <td>False</td>\n",
              "      <td>False</td>\n",
              "      <td>True</td>\n",
              "      <td>False</td>\n",
              "      <td>True</td>\n",
              "      <td>True</td>\n",
              "      <td>False</td>\n",
              "      <td>False</td>\n",
              "      <td>False</td>\n",
              "      <td>False</td>\n",
              "    </tr>\n",
              "    <tr>\n",
              "      <th>3</th>\n",
              "      <td>False</td>\n",
              "      <td>True</td>\n",
              "      <td>False</td>\n",
              "      <td>False</td>\n",
              "      <td>False</td>\n",
              "      <td>True</td>\n",
              "      <td>True</td>\n",
              "      <td>False</td>\n",
              "      <td>False</td>\n",
              "      <td>True</td>\n",
              "      <td>True</td>\n",
              "    </tr>\n",
              "    <tr>\n",
              "      <th>4</th>\n",
              "      <td>False</td>\n",
              "      <td>True</td>\n",
              "      <td>False</td>\n",
              "      <td>True</td>\n",
              "      <td>True</td>\n",
              "      <td>True</td>\n",
              "      <td>False</td>\n",
              "      <td>False</td>\n",
              "      <td>True</td>\n",
              "      <td>False</td>\n",
              "      <td>False</td>\n",
              "    </tr>\n",
              "  </tbody>\n",
              "</table>\n",
              "</div>"
            ],
            "text/plain": [
              "   Apple   Corn   Dill   Eggs  Ice cream  Kidney Beans   Milk  Nutmeg  Onion  \\\n",
              "0  False  False  False   True      False          True   True    True   True   \n",
              "1  False  False   True   True      False          True  False    True   True   \n",
              "2   True  False  False   True      False          True   True   False  False   \n",
              "3  False   True  False  False      False          True   True   False  False   \n",
              "4  False   True  False   True       True          True  False   False   True   \n",
              "\n",
              "   Unicorn  Yogurt  \n",
              "0    False    True  \n",
              "1    False    True  \n",
              "2    False   False  \n",
              "3     True    True  \n",
              "4    False   False  "
            ]
          },
          "metadata": {
            "tags": []
          },
          "execution_count": 9
        }
      ]
    },
    {
      "cell_type": "code",
      "metadata": {
        "colab": {
          "base_uri": "https://localhost:8080/",
          "height": 328
        },
        "id": "KGJvLcYprySN",
        "outputId": "4f893a98-b105-47f7-c81f-7a23c0cd8d7f"
      },
      "source": [
        "from mlxtend.frequent_patterns import apriori\n",
        "from mlxtend.frequent_patterns import association_rules\n",
        "\n",
        "frequent_itemsets = apriori(df, min_support=0.6, use_colnames=True)\n",
        "association_rules(frequent_itemsets, metric=\"confidence\", min_threshold=0.8)"
      ],
      "execution_count": null,
      "outputs": [
        {
          "output_type": "execute_result",
          "data": {
            "text/html": [
              "<div>\n",
              "<style scoped>\n",
              "    .dataframe tbody tr th:only-of-type {\n",
              "        vertical-align: middle;\n",
              "    }\n",
              "\n",
              "    .dataframe tbody tr th {\n",
              "        vertical-align: top;\n",
              "    }\n",
              "\n",
              "    .dataframe thead th {\n",
              "        text-align: right;\n",
              "    }\n",
              "</style>\n",
              "<table border=\"1\" class=\"dataframe\">\n",
              "  <thead>\n",
              "    <tr style=\"text-align: right;\">\n",
              "      <th></th>\n",
              "      <th>antecedents</th>\n",
              "      <th>consequents</th>\n",
              "      <th>antecedent support</th>\n",
              "      <th>consequent support</th>\n",
              "      <th>support</th>\n",
              "      <th>confidence</th>\n",
              "      <th>lift</th>\n",
              "      <th>leverage</th>\n",
              "      <th>conviction</th>\n",
              "    </tr>\n",
              "  </thead>\n",
              "  <tbody>\n",
              "    <tr>\n",
              "      <th>0</th>\n",
              "      <td>(Eggs)</td>\n",
              "      <td>(Kidney Beans)</td>\n",
              "      <td>0.8</td>\n",
              "      <td>1.0</td>\n",
              "      <td>0.8</td>\n",
              "      <td>1.0</td>\n",
              "      <td>1.00</td>\n",
              "      <td>0.00</td>\n",
              "      <td>inf</td>\n",
              "    </tr>\n",
              "    <tr>\n",
              "      <th>1</th>\n",
              "      <td>(Kidney Beans)</td>\n",
              "      <td>(Eggs)</td>\n",
              "      <td>1.0</td>\n",
              "      <td>0.8</td>\n",
              "      <td>0.8</td>\n",
              "      <td>0.8</td>\n",
              "      <td>1.00</td>\n",
              "      <td>0.00</td>\n",
              "      <td>1.0</td>\n",
              "    </tr>\n",
              "    <tr>\n",
              "      <th>2</th>\n",
              "      <td>(Onion)</td>\n",
              "      <td>(Eggs)</td>\n",
              "      <td>0.6</td>\n",
              "      <td>0.8</td>\n",
              "      <td>0.6</td>\n",
              "      <td>1.0</td>\n",
              "      <td>1.25</td>\n",
              "      <td>0.12</td>\n",
              "      <td>inf</td>\n",
              "    </tr>\n",
              "    <tr>\n",
              "      <th>3</th>\n",
              "      <td>(Milk)</td>\n",
              "      <td>(Kidney Beans)</td>\n",
              "      <td>0.6</td>\n",
              "      <td>1.0</td>\n",
              "      <td>0.6</td>\n",
              "      <td>1.0</td>\n",
              "      <td>1.00</td>\n",
              "      <td>0.00</td>\n",
              "      <td>inf</td>\n",
              "    </tr>\n",
              "    <tr>\n",
              "      <th>4</th>\n",
              "      <td>(Onion)</td>\n",
              "      <td>(Kidney Beans)</td>\n",
              "      <td>0.6</td>\n",
              "      <td>1.0</td>\n",
              "      <td>0.6</td>\n",
              "      <td>1.0</td>\n",
              "      <td>1.00</td>\n",
              "      <td>0.00</td>\n",
              "      <td>inf</td>\n",
              "    </tr>\n",
              "    <tr>\n",
              "      <th>5</th>\n",
              "      <td>(Yogurt)</td>\n",
              "      <td>(Kidney Beans)</td>\n",
              "      <td>0.6</td>\n",
              "      <td>1.0</td>\n",
              "      <td>0.6</td>\n",
              "      <td>1.0</td>\n",
              "      <td>1.00</td>\n",
              "      <td>0.00</td>\n",
              "      <td>inf</td>\n",
              "    </tr>\n",
              "    <tr>\n",
              "      <th>6</th>\n",
              "      <td>(Onion, Kidney Beans)</td>\n",
              "      <td>(Eggs)</td>\n",
              "      <td>0.6</td>\n",
              "      <td>0.8</td>\n",
              "      <td>0.6</td>\n",
              "      <td>1.0</td>\n",
              "      <td>1.25</td>\n",
              "      <td>0.12</td>\n",
              "      <td>inf</td>\n",
              "    </tr>\n",
              "    <tr>\n",
              "      <th>7</th>\n",
              "      <td>(Eggs, Onion)</td>\n",
              "      <td>(Kidney Beans)</td>\n",
              "      <td>0.6</td>\n",
              "      <td>1.0</td>\n",
              "      <td>0.6</td>\n",
              "      <td>1.0</td>\n",
              "      <td>1.00</td>\n",
              "      <td>0.00</td>\n",
              "      <td>inf</td>\n",
              "    </tr>\n",
              "    <tr>\n",
              "      <th>8</th>\n",
              "      <td>(Onion)</td>\n",
              "      <td>(Eggs, Kidney Beans)</td>\n",
              "      <td>0.6</td>\n",
              "      <td>0.8</td>\n",
              "      <td>0.6</td>\n",
              "      <td>1.0</td>\n",
              "      <td>1.25</td>\n",
              "      <td>0.12</td>\n",
              "      <td>inf</td>\n",
              "    </tr>\n",
              "  </tbody>\n",
              "</table>\n",
              "</div>"
            ],
            "text/plain": [
              "             antecedents           consequents  antecedent support  \\\n",
              "0                 (Eggs)        (Kidney Beans)                 0.8   \n",
              "1         (Kidney Beans)                (Eggs)                 1.0   \n",
              "2                (Onion)                (Eggs)                 0.6   \n",
              "3                 (Milk)        (Kidney Beans)                 0.6   \n",
              "4                (Onion)        (Kidney Beans)                 0.6   \n",
              "5               (Yogurt)        (Kidney Beans)                 0.6   \n",
              "6  (Onion, Kidney Beans)                (Eggs)                 0.6   \n",
              "7          (Eggs, Onion)        (Kidney Beans)                 0.6   \n",
              "8                (Onion)  (Eggs, Kidney Beans)                 0.6   \n",
              "\n",
              "   consequent support  support  confidence  lift  leverage  conviction  \n",
              "0                 1.0      0.8         1.0  1.00      0.00         inf  \n",
              "1                 0.8      0.8         0.8  1.00      0.00         1.0  \n",
              "2                 0.8      0.6         1.0  1.25      0.12         inf  \n",
              "3                 1.0      0.6         1.0  1.00      0.00         inf  \n",
              "4                 1.0      0.6         1.0  1.00      0.00         inf  \n",
              "5                 1.0      0.6         1.0  1.00      0.00         inf  \n",
              "6                 0.8      0.6         1.0  1.25      0.12         inf  \n",
              "7                 1.0      0.6         1.0  1.00      0.00         inf  \n",
              "8                 0.8      0.6         1.0  1.25      0.12         inf  "
            ]
          },
          "metadata": {
            "tags": []
          },
          "execution_count": 10
        }
      ]
    },
    {
      "cell_type": "code",
      "metadata": {
        "colab": {
          "base_uri": "https://localhost:8080/",
          "height": 328
        },
        "id": "E5IqinNt70xn",
        "outputId": "5db9990e-8f77-402a-d1b1-117bf328fc5d"
      },
      "source": [
        "# Dataset from Dropbox and Prof\n",
        "df = pd.read_csv('MilkAssociationWeka.csv')\n",
        "df = df.replace(\"yes\", 1).replace(\"no\", 0)\n",
        "df"
      ],
      "execution_count": null,
      "outputs": [
        {
          "output_type": "execute_result",
          "data": {
            "text/html": [
              "<div>\n",
              "<style scoped>\n",
              "    .dataframe tbody tr th:only-of-type {\n",
              "        vertical-align: middle;\n",
              "    }\n",
              "\n",
              "    .dataframe tbody tr th {\n",
              "        vertical-align: top;\n",
              "    }\n",
              "\n",
              "    .dataframe thead th {\n",
              "        text-align: right;\n",
              "    }\n",
              "</style>\n",
              "<table border=\"1\" class=\"dataframe\">\n",
              "  <thead>\n",
              "    <tr style=\"text-align: right;\">\n",
              "      <th></th>\n",
              "      <th>milk</th>\n",
              "      <th>bread</th>\n",
              "      <th>butter</th>\n",
              "      <th>beer</th>\n",
              "      <th>diapers</th>\n",
              "    </tr>\n",
              "  </thead>\n",
              "  <tbody>\n",
              "    <tr>\n",
              "      <th>0</th>\n",
              "      <td>1</td>\n",
              "      <td>1</td>\n",
              "      <td>0</td>\n",
              "      <td>0</td>\n",
              "      <td>0</td>\n",
              "    </tr>\n",
              "    <tr>\n",
              "      <th>1</th>\n",
              "      <td>0</td>\n",
              "      <td>0</td>\n",
              "      <td>1</td>\n",
              "      <td>0</td>\n",
              "      <td>0</td>\n",
              "    </tr>\n",
              "    <tr>\n",
              "      <th>2</th>\n",
              "      <td>0</td>\n",
              "      <td>0</td>\n",
              "      <td>0</td>\n",
              "      <td>1</td>\n",
              "      <td>1</td>\n",
              "    </tr>\n",
              "    <tr>\n",
              "      <th>3</th>\n",
              "      <td>1</td>\n",
              "      <td>1</td>\n",
              "      <td>1</td>\n",
              "      <td>0</td>\n",
              "      <td>0</td>\n",
              "    </tr>\n",
              "    <tr>\n",
              "      <th>4</th>\n",
              "      <td>0</td>\n",
              "      <td>1</td>\n",
              "      <td>0</td>\n",
              "      <td>0</td>\n",
              "      <td>0</td>\n",
              "    </tr>\n",
              "    <tr>\n",
              "      <th>5</th>\n",
              "      <td>0</td>\n",
              "      <td>0</td>\n",
              "      <td>0</td>\n",
              "      <td>1</td>\n",
              "      <td>1</td>\n",
              "    </tr>\n",
              "    <tr>\n",
              "      <th>6</th>\n",
              "      <td>0</td>\n",
              "      <td>0</td>\n",
              "      <td>0</td>\n",
              "      <td>1</td>\n",
              "      <td>1</td>\n",
              "    </tr>\n",
              "    <tr>\n",
              "      <th>7</th>\n",
              "      <td>0</td>\n",
              "      <td>0</td>\n",
              "      <td>0</td>\n",
              "      <td>1</td>\n",
              "      <td>1</td>\n",
              "    </tr>\n",
              "    <tr>\n",
              "      <th>8</th>\n",
              "      <td>0</td>\n",
              "      <td>0</td>\n",
              "      <td>0</td>\n",
              "      <td>1</td>\n",
              "      <td>1</td>\n",
              "    </tr>\n",
              "  </tbody>\n",
              "</table>\n",
              "</div>"
            ],
            "text/plain": [
              "   milk  bread  butter  beer  diapers\n",
              "0     1      1       0     0        0\n",
              "1     0      0       1     0        0\n",
              "2     0      0       0     1        1\n",
              "3     1      1       1     0        0\n",
              "4     0      1       0     0        0\n",
              "5     0      0       0     1        1\n",
              "6     0      0       0     1        1\n",
              "7     0      0       0     1        1\n",
              "8     0      0       0     1        1"
            ]
          },
          "metadata": {
            "tags": []
          },
          "execution_count": 11
        }
      ]
    },
    {
      "cell_type": "markdown",
      "metadata": {
        "id": "69y7QNTnFDWA"
      },
      "source": [
        "## Compare the result with the Weka Association Rules\n",
        "- pay attention to the lift / support / confidence\n",
        "- association rules : Metric to evaluate if a rule is of interest. Automatically set to 'support' if support_only=True. Otherwise, supported metrics are 'support', 'confidence', 'lift'\n",
        "\n"
      ]
    },
    {
      "cell_type": "code",
      "metadata": {
        "colab": {
          "base_uri": "https://localhost:8080/",
          "height": 142
        },
        "id": "-HBg1uvl7-fE",
        "outputId": "6734a1ef-cbc5-4e49-bf34-c30f00e5390b"
      },
      "source": [
        "frequent_itemsets = apriori(df, min_support=0.2, use_colnames=True)\n",
        "rules = association_rules(frequent_itemsets, metric = 'confidence', min_threshold=0.7)\n",
        "rules"
      ],
      "execution_count": null,
      "outputs": [
        {
          "output_type": "execute_result",
          "data": {
            "text/html": [
              "<div>\n",
              "<style scoped>\n",
              "    .dataframe tbody tr th:only-of-type {\n",
              "        vertical-align: middle;\n",
              "    }\n",
              "\n",
              "    .dataframe tbody tr th {\n",
              "        vertical-align: top;\n",
              "    }\n",
              "\n",
              "    .dataframe thead th {\n",
              "        text-align: right;\n",
              "    }\n",
              "</style>\n",
              "<table border=\"1\" class=\"dataframe\">\n",
              "  <thead>\n",
              "    <tr style=\"text-align: right;\">\n",
              "      <th></th>\n",
              "      <th>antecedents</th>\n",
              "      <th>consequents</th>\n",
              "      <th>antecedent support</th>\n",
              "      <th>consequent support</th>\n",
              "      <th>support</th>\n",
              "      <th>confidence</th>\n",
              "      <th>lift</th>\n",
              "      <th>leverage</th>\n",
              "      <th>conviction</th>\n",
              "    </tr>\n",
              "  </thead>\n",
              "  <tbody>\n",
              "    <tr>\n",
              "      <th>0</th>\n",
              "      <td>(milk)</td>\n",
              "      <td>(bread)</td>\n",
              "      <td>0.222222</td>\n",
              "      <td>0.333333</td>\n",
              "      <td>0.222222</td>\n",
              "      <td>1.0</td>\n",
              "      <td>3.0</td>\n",
              "      <td>0.148148</td>\n",
              "      <td>inf</td>\n",
              "    </tr>\n",
              "    <tr>\n",
              "      <th>1</th>\n",
              "      <td>(beer)</td>\n",
              "      <td>(diapers)</td>\n",
              "      <td>0.555556</td>\n",
              "      <td>0.555556</td>\n",
              "      <td>0.555556</td>\n",
              "      <td>1.0</td>\n",
              "      <td>1.8</td>\n",
              "      <td>0.246914</td>\n",
              "      <td>inf</td>\n",
              "    </tr>\n",
              "    <tr>\n",
              "      <th>2</th>\n",
              "      <td>(diapers)</td>\n",
              "      <td>(beer)</td>\n",
              "      <td>0.555556</td>\n",
              "      <td>0.555556</td>\n",
              "      <td>0.555556</td>\n",
              "      <td>1.0</td>\n",
              "      <td>1.8</td>\n",
              "      <td>0.246914</td>\n",
              "      <td>inf</td>\n",
              "    </tr>\n",
              "  </tbody>\n",
              "</table>\n",
              "</div>"
            ],
            "text/plain": [
              "  antecedents consequents  antecedent support  consequent support   support  \\\n",
              "0      (milk)     (bread)            0.222222            0.333333  0.222222   \n",
              "1      (beer)   (diapers)            0.555556            0.555556  0.555556   \n",
              "2   (diapers)      (beer)            0.555556            0.555556  0.555556   \n",
              "\n",
              "   confidence  lift  leverage  conviction  \n",
              "0         1.0   3.0  0.148148         inf  \n",
              "1         1.0   1.8  0.246914         inf  \n",
              "2         1.0   1.8  0.246914         inf  "
            ]
          },
          "metadata": {
            "tags": []
          },
          "execution_count": 12
        }
      ]
    },
    {
      "cell_type": "markdown",
      "metadata": {
        "id": "hb67jhyKXjBk"
      },
      "source": [
        "- Pandas DataFrames make it easy to filter the results further. Let's say we are ony interested in rules that satisfy the following criteria:\n",
        "    - at least 2 antecedents\n",
        "    - a confidence > 0.75\n",
        "    - a lift score > 1.2"
      ]
    },
    {
      "cell_type": "code",
      "metadata": {
        "id": "YAWo5A6nWsew"
      },
      "source": [
        ""
      ],
      "execution_count": null,
      "outputs": []
    },
    {
      "cell_type": "code",
      "metadata": {
        "id": "hAemxReqXySG"
      },
      "source": [
        ""
      ],
      "execution_count": null,
      "outputs": []
    }
  ]
}
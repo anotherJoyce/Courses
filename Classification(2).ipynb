{
  "nbformat": 4,
  "nbformat_minor": 0,
  "metadata": {
    "colab": {
      "name": "Classification.ipynb",
      "provenance": [],
      "collapsed_sections": []
    },
    "kernelspec": {
      "display_name": "Python 3",
      "language": "python",
      "name": "python3"
    },
    "language_info": {
      "codemirror_mode": {
        "name": "ipython",
        "version": 3
      },
      "file_extension": ".py",
      "mimetype": "text/x-python",
      "name": "python",
      "nbconvert_exporter": "python",
      "pygments_lexer": "ipython3",
      "version": "3.7.6-final"
    }
  },
  "cells": [
    {
      "cell_type": "markdown",
      "metadata": {
        "id": "sKC8DUksnGeq"
      },
      "source": [
        "# Example code"
      ]
    },
    {
      "cell_type": "code",
      "metadata": {
        "id": "Ce1il03S6_Te",
        "tags": [],
        "colab": {
          "base_uri": "https://localhost:8080/"
        },
        "outputId": "1154aadd-4b0b-4604-f87d-6ccb7ea5a415"
      },
      "source": [
        "from keras.models import Sequential\n",
        "from keras.layers import Dense, Dropout\n",
        "from sklearn.metrics import classification_report, confusion_matrix\n",
        "from sklearn.model_selection import train_test_split\n",
        "import numpy\n",
        "from sklearn import linear_model\n",
        "from sklearn import preprocessing\n",
        "from sklearn import tree\n",
        "from sklearn.ensemble import RandomForestClassifier,GradientBoostingClassifier\n",
        "import pandas as pd\n",
        "import csv\n",
        "\n",
        "\n",
        "Y_position = 4\n",
        "\n",
        "# fix random seed for reproducibility\n",
        "numpy.random.seed(7)\n",
        "# load pima indians dataset\n",
        "dataset = numpy.loadtxt(\"/content/ETF Treynor.csv\", delimiter=\",\")\n",
        "# split into input (X) and output (Y) variables\n",
        "\n",
        "df = pd.DataFrame(dataset)\n",
        "print(df)\n",
        "\t# summary statistics\n",
        "print(df.describe())\n",
        "\n",
        "X = dataset[:,0:Y_position]\n",
        "Y = dataset[:,Y_position]\n",
        "# create model\n",
        "X_train, X_test, y_train, y_test = train_test_split(X, Y, test_size=0.40, random_state=2020)\n",
        "\n",
        "#scaling to around -2 to 2 (Z)\n",
        "scaler = preprocessing.StandardScaler().fit(X_train)\n",
        "scaled_X_train = scaler.transform(X_train)\n",
        "scaled_X_test = scaler.transform(X_test)\n",
        "\n",
        "#Model 1 : linear regression\n",
        "#https://scikit-learn.org/stable/modules/generated/sklearn.linear_model.LogisticRegression.html\n",
        "#class sklearn.linear_model.LogisticRegression(penalty='l2', *, dual=False, tol=0.0001, C=1.0, fit_intercept=True, \n",
        "#intercept_scaling=1, class_weight=None, random_state=None, solver='lbfgs', max_iter=100, multi_class='auto', \n",
        "#verbose=0, warm_start=False, n_jobs=None, l1_ratio=None)\n",
        "\n",
        "linear_classifier = linear_model.LogisticRegression(random_state=123)\n",
        "linear_classifier.fit(scaled_X_train, y_train)\n",
        "y_pred_train1 = linear_classifier.predict(scaled_X_train)\n",
        "cm1_train = confusion_matrix(y_train,y_pred_train1)\n",
        "print(\"Regression\")\n",
        "print(\"================================\")\n",
        "print(cm1_train)\n",
        "acc_train1 = (cm1_train[0,0] + cm1_train[1,1]) / sum(sum(cm1_train))\n",
        "print(\"Regression TrainSet: Accurarcy %.2f%%\" % (acc_train1*100))\n",
        "print(\"================================\")\n",
        "y_pred1 = linear_classifier.predict(scaled_X_test)\n",
        "cm1 = confusion_matrix(y_test,y_pred1)\n",
        "print(cm1)\n",
        "acc1 = (cm1[0,0] + cm1[1,1]) / sum(sum(cm1))\n",
        "print(\"Regression Testset: Accurarcy %.2f%%\" % (acc1*100))\n",
        "print(\"================================\")\n",
        "print(\"================================\")\n",
        "print(\"================================\")\n",
        "\n",
        "\n",
        "#Model 2: decision tree\n",
        "#https://scikit-learn.org/stable/modules/generated/sklearn.tree.DecisionTreeClassifier.html\n",
        "#class sklearn.tree.DecisionTreeClassifier(*, criterion='gini', splitter='best', max_depth=None, min_samples_split=2, \n",
        "#min_samples_leaf=1, min_weight_fraction_leaf=0.0, max_features=None, random_state=None, max_leaf_nodes=None, \n",
        "#min_impurity_decrease=0.0, min_impurity_split=None, class_weight=None, presort='deprecated', ccp_alpha=0.0)\n",
        "\n",
        "clf = tree.DecisionTreeClassifier()\n",
        "clf = clf.fit(scaled_X_train, y_train)\n",
        "y_pred_train2 = clf.predict(scaled_X_train)\n",
        "cm2_train = confusion_matrix(y_train,y_pred_train2)\n",
        "print(\"Decision Tree\")\n",
        "print(\"================================\")\n",
        "print(cm2_train)\n",
        "acc_train2 = (cm2_train[0,0] + cm2_train[1,1]) / sum(sum(cm2_train))\n",
        "print(\"Decsion Tree TrainSet: Accurarcy %.2f%%\" % (acc_train2*100))\n",
        "print(\"================================\")\n",
        "y_pred2 = clf.predict(scaled_X_test)\n",
        "cm2 = confusion_matrix(y_test,y_pred2)\n",
        "acc2 = (cm2[0,0] + cm2[1,1]) / sum(sum(cm2))\n",
        "print(cm2)\n",
        "print(\"Decision Tree Testset: Accurarcy %.2f%%\" % (acc2*100))\n",
        "print(\"================================\")\n",
        "print(\"================================\")\n",
        "print(\"================================\")\n",
        "\n",
        "\n",
        "#Model 3 random forest\n",
        "#https://scikit-learn.org/stable/modules/generated/sklearn.ensemble.RandomForestClassifier.html\n",
        "#class sklearn.ensemble.RandomForestClassifier(n_estimators=100, *, criterion='gini', max_depth=None, \n",
        "#min_samples_split=2, min_samples_leaf=1, min_weight_fraction_leaf=0.0, max_features='auto', \n",
        "#max_leaf_nodes=None, min_impurity_decrease=0.0, min_impurity_split=None, bootstrap=True, oob_score=False, \n",
        "#n_jobs=None, random_state=None, verbose=0, warm_start=False, class_weight=None, ccp_alpha=0.0, max_samples=None)[source]\n",
        "\n",
        "model3 = RandomForestClassifier(n_estimators=100, max_depth=2,random_state=0)\n",
        "model3.fit(scaled_X_train, y_train)\n",
        "y_predicted3 = model3.predict(scaled_X_test)\n",
        "\n",
        "y_pred_train3 = model3.predict(scaled_X_train)\n",
        "cm3_train = confusion_matrix(y_train,y_pred_train3)\n",
        "print(\"Random Forest\")\n",
        "print(\"================================\")\n",
        "print(cm3_train)\n",
        "acc_train3 = (cm3_train[0,0] + cm3_train[1,1]) / sum(sum(cm3_train))\n",
        "print(\"Random Forest TrainSet: Accurarcy %.2f%%\" % (acc_train3*100))\n",
        "print(\"================================\")\n",
        "y_pred3 = model3.predict(scaled_X_test)\n",
        "cm_test3 = confusion_matrix(y_test,y_pred3)\n",
        "print(cm_test3)\n",
        "acc_test3 = (cm_test3[0,0] + cm_test3[1,1]) / sum(sum(cm_test3))\n",
        "print(\"Random Forest Testset: Accurarcy %.2f%%\" % (acc_test3*100))\n",
        "print(\"================================\")\n",
        "print(\"================================\")\n",
        "print(\"================================\")\n",
        "\n",
        "#Model 4: XGBoost\n",
        "\n",
        "print(\"Xgboost\")\n",
        "print(\"================================\")\n",
        "#class sklearn.ensemble.GradientBoostingClassifier(*, loss='deviance', learning_rate=0.1, n_estimators=100, \n",
        "#subsample=1.0, criterion='friedman_mse', min_samples_split=2, min_samples_leaf=1, min_weight_fraction_leaf=0.0, \n",
        "#max_depth=3, min_impurity_decrease=0.0, min_impurity_split=None, init=None, random_state=None, max_features=None, \n",
        "#verbose=0, max_leaf_nodes=None, warm_start=False, presort='deprecated', validation_fraction=0.1, \n",
        "#n_iter_no_change=None, tol=0.0001, ccp_alpha=0.0)[source]\n",
        "#https://scikit-learn.org/stable/modules/generated/sklearn.ensemble.GradientBoostingClassifier.html\n",
        "\n",
        "model4 = GradientBoostingClassifier(random_state=0)\n",
        "model4.fit(scaled_X_train, y_train)\n",
        "y_pred_train4 = model4.predict(scaled_X_train)\n",
        "cm4_train = confusion_matrix(y_train,y_pred_train4)\n",
        "print(cm4_train)\n",
        "acc_train4 = (cm4_train[0,0] + cm4_train[1,1]) / sum(sum(cm4_train))\n",
        "print(\"Xgboost TrainSet: Accurarcy %.2f%%\" % (acc_train4*100))\n",
        "predictions = model4.predict(scaled_X_test)\n",
        "y_pred4 = (predictions > 0.5)\n",
        "y_pred4 =y_pred4*1 #convert to 0,1 instead of True False\n",
        "cm4 = confusion_matrix(y_test, y_pred4)\n",
        "print(\"==================================\")\n",
        "print(\"Xgboost on testset confusion matrix\")\n",
        "print(cm4)\n",
        "acc4 = (cm4[0,0] + cm4[1,1]) / sum(sum(cm4))\n",
        "print(\"Xgboost on TestSet: Accuracy %.2f%%\" % (acc4*100))\n",
        "print(\"==================================\")\n",
        "\n",
        "#Model 5: neural network\n",
        "#https://www.tensorflow.org/guide/keras/train_and_evaluate\n",
        "model = Sequential()\n",
        "model.add(Dense(10, input_dim=Y_position, activation='relu'))\n",
        "#model.add(Dense(10, activation='relu'))\n",
        "#model.add(Dropout(0.2))\n",
        "model.add(Dense(1, activation='sigmoid'))\n",
        "# Compile mode\n",
        "# https://www.tensorflow.org/guide/keras/train_and_evaluate\n",
        "\n",
        "model.compile(loss='binary_crossentropy', optimizer='Adamax', metrics=['accuracy'])\n",
        "# Fit the model\n",
        "model.fit(X_train, y_train, epochs=100, batch_size=5, verbose=0)\n",
        "# evaluate the model\n",
        "scores = model.evaluate(X_train, y_train)\n",
        "#print(scores)\n",
        "print(\"Neural Network Trainset: \\n%s: %.2f%%\" % (model.metrics_names[1], scores[1]*100))\n",
        "\n",
        "predictions5 = model.predict(X_test)\n",
        "#print(predictions)\n",
        "#print('predictions shape:', predictions.shape)\n",
        "\n",
        "y_pred5 = (predictions5 > 0.5)\n",
        "y_pred5 = y_pred5*1 #convert to 0,1 instead of True False\n",
        "cm5 = confusion_matrix(y_test, y_pred5)\n",
        "print(\"==================================\")\n",
        "print(\"==================================\")\n",
        "print(\"Neural Network on testset confusion matrix\")\n",
        "print(cm5)\n",
        "\n",
        "## Get accurary from Confusion matrix\n",
        "## Position 0,0 and 1,1 are the correct predictions \n",
        "acc5 = (cm5[0,0] + cm5[1,1]) / sum(sum(cm5))\n",
        "print(\"Neural Network on TestSet: Accuracy %.2f%%\" % (acc5*100))\n",
        "\n"
      ],
      "execution_count": 1,
      "outputs": [
        {
          "output_type": "stream",
          "text": [
            "         0     1     2      3    4\n",
            "0    12.92  1.18  0.81   5.41  0.0\n",
            "1    12.92  1.18  0.81   5.41  0.0\n",
            "2    12.92  1.18  0.81   5.44  0.0\n",
            "3    12.09  1.01  0.56   3.86  0.0\n",
            "4    11.34  1.12  1.07   4.06  0.0\n",
            "..     ...   ...   ...    ...  ...\n",
            "524  20.72  5.25  4.11  10.70  1.0\n",
            "525  13.91  0.97  0.73   2.31  0.0\n",
            "526  10.57  1.38  2.23   8.94  1.0\n",
            "527  13.37  1.95  0.32   5.58  1.0\n",
            "528  17.88  2.82  2.84  10.35  1.0\n",
            "\n",
            "[529 rows x 5 columns]\n",
            "                0           1           2           3           4\n",
            "count  529.000000  529.000000  529.000000  529.000000  529.000000\n",
            "mean    15.685274    2.154575    1.776919    7.905652    0.499055\n",
            "std      5.393522    1.165433    1.382950    3.617214    0.500472\n",
            "min      4.950000    0.500000    0.190000    0.900000    0.000000\n",
            "25%     12.670000    1.380000    0.980000    5.410000    0.000000\n",
            "50%     14.760000    1.800000    1.340000    7.210000    0.000000\n",
            "75%     17.250000    2.570000    2.050000    9.460000    1.000000\n",
            "max     43.790000    7.640000   10.020000   25.590000    1.000000\n",
            "Regression\n",
            "================================\n",
            "[[122  28]\n",
            " [ 53 114]]\n",
            "Regression TrainSet: Accurarcy 74.45%\n",
            "================================\n",
            "[[101  14]\n",
            " [ 28  69]]\n",
            "Regression Testset: Accurarcy 80.19%\n",
            "================================\n",
            "================================\n",
            "================================\n",
            "Decision Tree\n",
            "================================\n",
            "[[150   0]\n",
            " [  0 167]]\n",
            "Decsion Tree TrainSet: Accurarcy 100.00%\n",
            "================================\n",
            "[[75 40]\n",
            " [25 72]]\n",
            "Decision Tree Testset: Accurarcy 69.34%\n",
            "================================\n",
            "================================\n",
            "================================\n",
            "Random Forest\n",
            "================================\n",
            "[[114  36]\n",
            " [ 36 131]]\n",
            "Random Forest TrainSet: Accurarcy 77.29%\n",
            "================================\n",
            "[[95 20]\n",
            " [23 74]]\n",
            "Random Forest Testset: Accurarcy 79.72%\n",
            "================================\n",
            "================================\n",
            "================================\n",
            "Xgboost\n",
            "================================\n",
            "[[146   4]\n",
            " [  7 160]]\n",
            "Xgboost TrainSet: Accurarcy 96.53%\n",
            "==================================\n",
            "Xgboost on testset confusion matrix\n",
            "[[92 23]\n",
            " [24 73]]\n",
            "Xgboost on TestSet: Accuracy 77.83%\n",
            "==================================\n",
            "10/10 [==============================] - 0s 1ms/step - loss: 0.5231 - accuracy: 0.7350\n",
            "Neural Network Trainset: \n",
            "accuracy: 73.50%\n",
            "==================================\n",
            "==================================\n",
            "Neural Network on testset confusion matrix\n",
            "[[91 24]\n",
            " [25 72]]\n",
            "Neural Network on TestSet: Accuracy 76.89%\n"
          ],
          "name": "stdout"
        }
      ]
    },
    {
      "cell_type": "markdown",
      "metadata": {
        "id": "WLXptszenQpc"
      },
      "source": [
        "## Model helper function\n"
      ]
    },
    {
      "cell_type": "code",
      "metadata": {
        "id": "kDNrvC23nSDS"
      },
      "source": [
        "def train_and_predict_using_model(model_name= \"\",model=None):\n",
        "    model.fit(scaled_X_train, y_train)\n",
        "    y_predicted = model3.predict(scaled_X_test)\n",
        "    y_pred_train = model.predict(scaled_X_train)\n",
        "    cm_train = confusion_matrix(y_train,y_pred_train)\n",
        "    print(model_name)\n",
        "    print(\"================================\")\n",
        "    print(\"Training confusion matrix: \")\n",
        "    print(cm_train)\n",
        "    acc_train = (cm_train[0,0] + cm_train[1,1]) / sum(sum(cm_train))\n",
        "    print(\"TrainSet: Accurarcy %.2f%%\" % (acc_train*100))\n",
        "    print(\"================================\")\n",
        "    y_pred = model.predict(scaled_X_test)\n",
        "    cm_test = confusion_matrix(y_test,y_pred)\n",
        "    print(cm_test)\n",
        "    acc_test = (cm_test[0,0] + cm_test[1,1]) / sum(sum(cm_test))\n",
        "    print(\"Testset: Accurarcy %.2f%%\" % (acc_test*100))\n",
        "    print(\"================================\")"
      ],
      "execution_count": 2,
      "outputs": []
    },
    {
      "cell_type": "markdown",
      "metadata": {
        "id": "Js0ulagcnKNW"
      },
      "source": [
        "### Logistic regression"
      ]
    },
    {
      "cell_type": "markdown",
      "metadata": {
        "id": "nNzY3eeQn0KI"
      },
      "source": [
        "- https://scikit-learn.org/stable/modules/generated/sklearn.linear_model.LogisticRegression.html\n",
        "\n",
        "```python\n",
        "class sklearn.linear_model.LogisticRegression(penalty='l2', *, dual=False, tol=0.0001, C=1.0, fit_intercept=True, \n",
        "intercept_scaling=1, class_weight=None, random_state=None, solver='lbfgs', max_iter=100, multi_class='auto', \n",
        "verbose=0, warm_start=False, n_jobs=None, l1_ratio=None)\n",
        "```"
      ]
    },
    {
      "cell_type": "code",
      "metadata": {
        "id": "oFxHmFL942ip"
      },
      "source": [
        "# penalty{‘l1’, ‘l2’, ‘elasticnet’, ‘none’}, default=’l2’\n",
        "# l1 - Lasso\n",
        "# l2 - Ridge\n",
        "# elasticnet - combination of l1 and l2"
      ],
      "execution_count": 3,
      "outputs": []
    },
    {
      "cell_type": "markdown",
      "metadata": {
        "id": "fLZ09qP3neCJ"
      },
      "source": [
        "### Decision tree"
      ]
    },
    {
      "cell_type": "markdown",
      "metadata": {
        "id": "nvCRjwsAoKvh"
      },
      "source": [
        "\n",
        "- https://scikit-learn.org/stable/modules/generated/sklearn.tree.DecisionTreeClassifier.html\n",
        "\n",
        "```python\n",
        "class sklearn.tree.DecisionTreeClassifier(*, criterion='gini', splitter='best', max_depth=None, min_samples_split=2, \n",
        "min_samples_leaf=1, min_weight_fraction_leaf=0.0, max_features=None, random_state=None, max_leaf_nodes=None, \n",
        "min_impurity_decrease=0.0, min_impurity_split=None, class_weight=None, presort='deprecated', ccp_alpha=0.0)\n",
        "```"
      ]
    },
    {
      "cell_type": "markdown",
      "metadata": {
        "id": "3nSZP7j1dIBJ"
      },
      "source": [
        "## Feature importance\n",
        "\n",
        "### Feature importances with forests of trees"
      ]
    },
    {
      "cell_type": "code",
      "metadata": {
        "tags": [],
        "id": "whZbWt0hdIBK",
        "colab": {
          "base_uri": "https://localhost:8080/"
        },
        "outputId": "111f9567-0be6-4f40-a34c-b8b0cd461051"
      },
      "source": [
        "RF = model3\n",
        "importances = RF.feature_importances_\n",
        "std = numpy.std([tree.feature_importances_ for tree in RF.estimators_],\n",
        "             axis=0)\n",
        "indices = numpy.argsort(importances)[::-1]\n",
        "\n",
        "# Print the feature ranking\n",
        "print(\"Feature ranking:\")\n",
        "\n",
        "for f in range(X.shape[1]):\n",
        "    print(\"%d. feature (Column index) %s (%f)\" % (f + 1, indices[f], importances[indices[f]]))"
      ],
      "execution_count": 4,
      "outputs": [
        {
          "output_type": "stream",
          "text": [
            "Feature ranking:\n",
            "1. feature (Column index) 1 (0.490436)\n",
            "2. feature (Column index) 0 (0.256819)\n",
            "3. feature (Column index) 3 (0.173674)\n",
            "4. feature (Column index) 2 (0.079071)\n"
          ],
          "name": "stdout"
        }
      ]
    },
    {
      "cell_type": "code",
      "metadata": {
        "id": "BuDxnhWGdIBh",
        "colab": {
          "base_uri": "https://localhost:8080/",
          "height": 265
        },
        "outputId": "ad396d08-e011-4f45-ec92-d44a4dfc2f75"
      },
      "source": [
        "import seaborn as sns\n",
        "import pandas as pd\n",
        "boxplot = pd.DataFrame(dataset).boxplot()"
      ],
      "execution_count": 5,
      "outputs": [
        {
          "output_type": "display_data",
          "data": {
            "image/png": "[encoded data removed]",
            "text/plain": [
              "<Figure size 432x288 with 1 Axes>"
            ]
          },
          "metadata": {
            "tags": [],
            "needs_background": "light"
          }
        }
      ]
    },
    {
      "cell_type": "markdown",
      "metadata": {
        "id": "xXFywaNXvGxt"
      },
      "source": [
        "## Remove outlier"
      ]
    },
    {
      "cell_type": "code",
      "metadata": {
        "id": "0vDI9ZQJvDq2",
        "colab": {
          "base_uri": "https://localhost:8080/"
        },
        "outputId": "8a3b0eac-7b27-4524-fcbb-e48460d1ef51"
      },
      "source": [
        "df = pd.DataFrame(dataset)\n",
        "quantile = df[4].quantile(0.99)\n",
        "df1 = df[df[4] < quantile]\n",
        "df.shape, df1.shape"
      ],
      "execution_count": 6,
      "outputs": [
        {
          "output_type": "execute_result",
          "data": {
            "text/plain": [
              "((529, 5), (265, 5))"
            ]
          },
          "metadata": {
            "tags": []
          },
          "execution_count": 6
        }
      ]
    },
    {
      "cell_type": "code",
      "metadata": {
        "id": "sGgSwffuvIRV"
      },
      "source": [
        "df1 = df1.dropna()"
      ],
      "execution_count": 7,
      "outputs": []
    },
    {
      "cell_type": "markdown",
      "metadata": {
        "id": "c0oHOT1nvTkH"
      },
      "source": [
        "## Use top 3 features"
      ]
    },
    {
      "cell_type": "code",
      "metadata": {
        "id": "VRvAbgUivSsX",
        "colab": {
          "base_uri": "https://localhost:8080/"
        },
        "outputId": "2f444a33-e37b-4648-9d89-19854beccc8d"
      },
      "source": [
        "indices_top3 = indices[:3]\n",
        "print(indices_top3)\n",
        "\n",
        "# fix random seed for reproducibility\n",
        "numpy.random.seed(7)\n",
        "# load pima indians dataset\n",
        "dataset = numpy.loadtxt(\"/content/ETF Treynor.csv\", delimiter=\",\")\n",
        "\n",
        "df = pd.DataFrame(dataset)\n",
        "\n",
        "Y_position = 4\n",
        "TOP_N_FEATURE = 3\n",
        "\n",
        "X = dataset[:,indices_top3]\n",
        "Y = dataset[:,Y_position]\n",
        "# create model\n",
        "X_train, X_test, y_train, y_test = train_test_split(X, Y, test_size=0.20, random_state=2020)\n",
        "\n",
        "\n",
        "#scaling to around -2 to 2 (Z)\n",
        "scaler = preprocessing.StandardScaler().fit(X_train)\n",
        "scaled_X_train = scaler.transform(X_train)\n",
        "scaled_X_test = scaler.transform(X_test)\n",
        "\n",
        "#Model 1 : linear regression\n",
        "#https://scikit-learn.org/stable/modules/generated/sklearn.linear_model.LogisticRegression.html\n",
        "#class sklearn.linear_model.LogisticRegression(penalty='l2', *, dual=False, tol=0.0001, C=1.0, fit_intercept=True, \n",
        "#intercept_scaling=1, class_weight=None, random_state=None, solver='lbfgs', max_iter=100, multi_class='auto', \n",
        "#verbose=0, warm_start=False, n_jobs=None, l1_ratio=None)\n",
        "\n",
        "linear_classifier = linear_model.LogisticRegression(random_state=123)\n",
        "linear_classifier.fit(scaled_X_train, y_train)\n",
        "y_pred_train1 = linear_classifier.predict(scaled_X_train)\n",
        "cm1_train = confusion_matrix(y_train,y_pred_train1)\n",
        "print(\"Regression\")\n",
        "print(\"================================\")\n",
        "print(cm1_train)\n",
        "acc_train1 = (cm1_train[0,0] + cm1_train[1,1]) / sum(sum(cm1_train))\n",
        "print(\"Regression TrainSet: Accurarcy %.2f%%\" % (acc_train1*100))\n",
        "print(\"================================\")\n",
        "y_pred1 = linear_classifier.predict(scaled_X_test)\n",
        "cm1 = confusion_matrix(y_test,y_pred1)\n",
        "print(cm1)\n",
        "acc1 = (cm1[0,0] + cm1[1,1]) / sum(sum(cm1))\n",
        "print(\"Regression Testset: Accurarcy %.2f%%\" % (acc1*100))\n",
        "print(\"================================\")\n",
        "print(\"================================\")\n",
        "print(\"================================\")\n",
        "\n",
        "\n",
        "#Model 2: decision tree\n",
        "#https://scikit-learn.org/stable/modules/generated/sklearn.tree.DecisionTreeClassifier.html\n",
        "#class sklearn.tree.DecisionTreeClassifier(*, criterion='gini', splitter='best', max_depth=None, min_samples_split=2, \n",
        "#min_samples_leaf=1, min_weight_fraction_leaf=0.0, max_features=None, random_state=None, max_leaf_nodes=None, \n",
        "#min_impurity_decrease=0.0, min_impurity_split=None, class_weight=None, presort='deprecated', ccp_alpha=0.0)\n",
        "\n",
        "clf = tree.DecisionTreeClassifier()\n",
        "clf = clf.fit(scaled_X_train, y_train)\n",
        "y_pred_train2 = clf.predict(scaled_X_train)\n",
        "cm2_train = confusion_matrix(y_train,y_pred_train2)\n",
        "print(\"Decision Tree\")\n",
        "print(\"================================\")\n",
        "print(cm2_train)\n",
        "acc_train2 = (cm2_train[0,0] + cm2_train[1,1]) / sum(sum(cm2_train))\n",
        "print(\"Decsion Tree TrainSet: Accurarcy %.2f%%\" % (acc_train2*100))\n",
        "print(\"================================\")\n",
        "y_pred2 = clf.predict(scaled_X_test)\n",
        "cm2 = confusion_matrix(y_test,y_pred2)\n",
        "acc2 = (cm2[0,0] + cm2[1,1]) / sum(sum(cm2))\n",
        "print(cm2)\n",
        "print(\"Decision Tree Testset: Accurarcy %.2f%%\" % (acc2*100))\n",
        "print(\"================================\")\n",
        "print(\"================================\")\n",
        "print(\"================================\")\n",
        "\n",
        "\n",
        "#Model 3 random forest\n",
        "#https://scikit-learn.org/stable/modules/generated/sklearn.ensemble.RandomForestClassifier.html\n",
        "#class sklearn.ensemble.RandomForestClassifier(n_estimators=100, *, criterion='gini', max_depth=None, \n",
        "#min_samples_split=2, min_samples_leaf=1, min_weight_fraction_leaf=0.0, max_features='auto', \n",
        "#max_leaf_nodes=None, min_impurity_decrease=0.0, min_impurity_split=None, bootstrap=True, oob_score=False, \n",
        "#n_jobs=None, random_state=None, verbose=0, warm_start=False, class_weight=None, ccp_alpha=0.0, max_samples=None)[source]\n",
        "\n",
        "model3 = RandomForestClassifier(n_estimators=100, max_depth=2,random_state=0)\n",
        "model3.fit(scaled_X_train, y_train)\n",
        "y_predicted3 = model3.predict(scaled_X_test)\n",
        "\n",
        "y_pred_train3 = model3.predict(scaled_X_train)\n",
        "cm3_train = confusion_matrix(y_train,y_pred_train3)\n",
        "print(\"Random Forest\")\n",
        "print(\"================================\")\n",
        "print(cm3_train)\n",
        "acc_train3 = (cm3_train[0,0] + cm3_train[1,1]) / sum(sum(cm3_train))\n",
        "print(\"Random Forest TrainSet: Accurarcy %.2f%%\" % (acc_train3*100))\n",
        "print(\"================================\")\n",
        "y_pred3 = model3.predict(scaled_X_test)\n",
        "cm_test3 = confusion_matrix(y_test,y_pred3)\n",
        "print(cm_test3)\n",
        "acc_test3 = (cm_test3[0,0] + cm_test3[1,1]) / sum(sum(cm_test3))\n",
        "print(\"Random Forest Testset: Accurarcy %.2f%%\" % (acc_test3*100))\n",
        "print(\"================================\")\n",
        "print(\"================================\")\n",
        "print(\"================================\")\n",
        "\n",
        "#Model 4: XGBoost\n",
        "\n",
        "print(\"Xgboost\")\n",
        "print(\"================================\")\n",
        "#class sklearn.ensemble.GradientBoostingClassifier(*, loss='deviance', learning_rate=0.1, n_estimators=100, \n",
        "#subsample=1.0, criterion='friedman_mse', min_samples_split=2, min_samples_leaf=1, min_weight_fraction_leaf=0.0, \n",
        "#max_depth=3, min_impurity_decrease=0.0, min_impurity_split=None, init=None, random_state=None, max_features=None, \n",
        "#verbose=0, max_leaf_nodes=None, warm_start=False, presort='deprecated', validation_fraction=0.1, \n",
        "#n_iter_no_change=None, tol=0.0001, ccp_alpha=0.0)[source]\n",
        "#https://scikit-learn.org/stable/modules/generated/sklearn.ensemble.GradientBoostingClassifier.html\n",
        "\n",
        "model4 = GradientBoostingClassifier(random_state=0)\n",
        "model4.fit(scaled_X_train, y_train)\n",
        "y_pred_train4 = model4.predict(scaled_X_train)\n",
        "cm4_train = confusion_matrix(y_train,y_pred_train4)\n",
        "print(cm4_train)\n",
        "acc_train4 = (cm4_train[0,0] + cm4_train[1,1]) / sum(sum(cm4_train))\n",
        "print(\"Xgboost TrainSet: Accurarcy %.2f%%\" % (acc_train4*100))\n",
        "predictions = model4.predict(scaled_X_test)\n",
        "y_pred4 = (predictions > 0.5)\n",
        "y_pred4 =y_pred4*1 #convert to 0,1 instead of True False\n",
        "cm4 = confusion_matrix(y_test, y_pred4)\n",
        "print(\"==================================\")\n",
        "print(\"Xgboost on testset confusion matrix\")\n",
        "print(cm4)\n",
        "acc4 = (cm4[0,0] + cm4[1,1]) / sum(sum(cm4))\n",
        "print(\"Xgboost on TestSet: Accuracy %.2f%%\" % (acc4*100))\n",
        "print(\"==================================\")\n",
        "\n",
        "#Model 5: neural network\n",
        "#https://www.tensorflow.org/guide/keras/train_and_evaluate\n",
        "\n",
        "model = Sequential()\n",
        "model.add(Dense(10, input_dim=TOP_N_FEATURE, activation='relu'))\n",
        "#model.add(Dense(10, activation='relu'))\n",
        "#model.add(Dropout(0.2))\n",
        "model.add(Dense(1, activation='sigmoid'))\n",
        "# Compile mode\n",
        "# https://www.tensorflow.org/guide/keras/train_and_evaluate\n",
        "\n",
        "model.compile(loss='binary_crossentropy', optimizer='Adamax', metrics=['accuracy'])\n",
        "# Fit the model\n",
        "model.fit(X_train, y_train, epochs=100, batch_size=5, verbose=0)\n",
        "# evaluate the model\n",
        "scores = model.evaluate(X_train, y_train)\n",
        "#print(scores)\n",
        "print(\"Neural Network Trainset: \\n%s: %.2f%%\" % (model.metrics_names[1], scores[1]*100))\n",
        "\n",
        "predictions5 = model.predict(X_test)\n",
        "#print(predictions)\n",
        "#print('predictions shape:', predictions.shape)\n",
        "\n",
        "y_pred5 = (predictions5 > 0.5)\n",
        "y_pred5 = y_pred5*1 #convert to 0,1 instead of True False\n",
        "cm5 = confusion_matrix(y_test, y_pred5)\n",
        "print(\"==================================\")\n",
        "print(\"==================================\")\n",
        "print(\"Neural Network on testset confusion matrix\")\n",
        "print(cm5)\n",
        "\n",
        "## Get accurary from Confusion matrix\n",
        "## Position 0,0 and 1,1 are the correct predictions \n",
        "acc5 = (cm5[0,0] + cm5[1,1]) / sum(sum(cm5))\n",
        "print(\"Neural Network on TestSet: Accuracy %.2f%%\" % (acc5*100))"
      ],
      "execution_count": 10,
      "outputs": [
        {
          "output_type": "stream",
          "text": [
            "[1 0 3]\n",
            "Regression\n",
            "================================\n",
            "[[168  34]\n",
            " [ 67 154]]\n",
            "Regression TrainSet: Accurarcy 76.12%\n",
            "================================\n",
            "[[55  8]\n",
            " [13 30]]\n",
            "Regression Testset: Accurarcy 80.19%\n",
            "================================\n",
            "================================\n",
            "================================\n",
            "Decision Tree\n",
            "================================\n",
            "[[202   0]\n",
            " [  0 221]]\n",
            "Decsion Tree TrainSet: Accurarcy 100.00%\n",
            "================================\n",
            "[[48 15]\n",
            " [15 28]]\n",
            "Decision Tree Testset: Accurarcy 71.70%\n",
            "================================\n",
            "================================\n",
            "================================\n",
            "Random Forest\n",
            "================================\n",
            "[[165  37]\n",
            " [ 53 168]]\n",
            "Random Forest TrainSet: Accurarcy 78.72%\n",
            "================================\n",
            "[[53 10]\n",
            " [11 32]]\n",
            "Random Forest Testset: Accurarcy 80.19%\n",
            "================================\n",
            "================================\n",
            "================================\n",
            "Xgboost\n",
            "================================\n",
            "[[191  11]\n",
            " [ 16 205]]\n",
            "Xgboost TrainSet: Accurarcy 93.62%\n",
            "==================================\n",
            "Xgboost on testset confusion matrix\n",
            "[[47 16]\n",
            " [10 33]]\n",
            "Xgboost on TestSet: Accuracy 75.47%\n",
            "==================================\n",
            "14/14 [==============================] - 0s 1ms/step - loss: 0.5395 - accuracy: 0.7305\n",
            "Neural Network Trainset: \n",
            "accuracy: 73.05%\n",
            "==================================\n",
            "==================================\n",
            "Neural Network on testset confusion matrix\n",
            "[[54  9]\n",
            " [14 29]]\n",
            "Neural Network on TestSet: Accuracy 78.30%\n"
          ],
          "name": "stdout"
        }
      ]
    },
    {
      "cell_type": "code",
      "metadata": {
        "id": "ZAgMlQOWhJjA"
      },
      "source": [
        ""
      ],
      "execution_count": null,
      "outputs": []
    },
    {
      "cell_type": "markdown",
      "metadata": {
        "id": "PEGm4HurdgXA"
      },
      "source": [
        "# Other models and how to configure"
      ]
    },
    {
      "cell_type": "markdown",
      "metadata": {
        "id": "8F3EhgupiKda"
      },
      "source": [
        "## SVM"
      ]
    },
    {
      "cell_type": "code",
      "metadata": {
        "id": "AyVH_vlnh_HQ",
        "colab": {
          "base_uri": "https://localhost:8080/"
        },
        "outputId": "50182bcb-9861-472b-b214-ebafb36e70bf"
      },
      "source": [
        "from sklearn import svm\n",
        "\n",
        "clf = svm.SVC()\n",
        "train_and_predict_using_model(\"SVM (Classifier)\", clf)"
      ],
      "execution_count": 11,
      "outputs": [
        {
          "output_type": "stream",
          "text": [
            "SVM (Classifier)\n",
            "================================\n",
            "Training confusion matrix: \n",
            "[[177  25]\n",
            " [ 74 147]]\n",
            "TrainSet: Accurarcy 76.60%\n",
            "================================\n",
            "[[58  5]\n",
            " [14 29]]\n",
            "Testset: Accurarcy 82.08%\n",
            "================================\n"
          ],
          "name": "stdout"
        }
      ]
    },
    {
      "cell_type": "markdown",
      "metadata": {
        "id": "3IY2MhXmiuF3"
      },
      "source": [
        "### Important hyper parameters:\n",
        "- kernel\n",
        "    - rbf\n",
        "    - polynomial\n",
        "    - sigmoid\n",
        "\n",
        "- class weight\n",
        "    - for unbalanced dataset"
      ]
    },
    {
      "cell_type": "code",
      "metadata": {
        "id": "yGfeFhrcitKP",
        "colab": {
          "base_uri": "https://localhost:8080/"
        },
        "outputId": "13f9e261-4dd9-44b2-ce9a-7208a401508d"
      },
      "source": [
        "rbf_svc = svm.SVC(kernel='rbf')\n",
        "train_and_predict_using_model(\"SVM (RBF kernel)\", rbf_svc)"
      ],
      "execution_count": 14,
      "outputs": [
        {
          "output_type": "stream",
          "text": [
            "SVM (RBF kernel)\n",
            "================================\n",
            "Training confusion matrix: \n",
            "[[177  25]\n",
            " [ 74 147]]\n",
            "TrainSet: Accurarcy 76.60%\n",
            "================================\n",
            "[[58  5]\n",
            " [14 29]]\n",
            "Testset: Accurarcy 82.08%\n",
            "================================\n"
          ],
          "name": "stdout"
        }
      ]
    },
    {
      "cell_type": "code",
      "metadata": {
        "id": "ZaHNNSaQiW5B",
        "colab": {
          "base_uri": "https://localhost:8080/"
        },
        "outputId": "1918cf66-308e-4614-e5ef-7febad8c32e0"
      },
      "source": [
        "pol_svc = svm.SVC(kernel='poly')\n",
        "train_and_predict_using_model(\"SVM (polynomial kernel)\", pol_svc)"
      ],
      "execution_count": 18,
      "outputs": [
        {
          "output_type": "stream",
          "text": [
            "SVM (polynomial kernel)\n",
            "================================\n",
            "Training confusion matrix: \n",
            "[[197   5]\n",
            " [126  95]]\n",
            "TrainSet: Accurarcy 69.03%\n",
            "================================\n",
            "[[62  1]\n",
            " [24 19]]\n",
            "Testset: Accurarcy 76.42%\n",
            "================================\n"
          ],
          "name": "stdout"
        }
      ]
    },
    {
      "cell_type": "code",
      "metadata": {
        "id": "lxKK5-FZjKGN",
        "colab": {
          "base_uri": "https://localhost:8080/"
        },
        "outputId": "4757935b-5a4b-4363-cf14-60620deb42db"
      },
      "source": [
        "sig_svc = svm.SVC(kernel='sigmoid')\n",
        "train_and_predict_using_model(\"SVM (sigmoid kernel)\", sig_svc)"
      ],
      "execution_count": 19,
      "outputs": [
        {
          "output_type": "stream",
          "text": [
            "SVM (sigmoid kernel)\n",
            "================================\n",
            "Training confusion matrix: \n",
            "[[135  67]\n",
            " [ 78 143]]\n",
            "TrainSet: Accurarcy 65.72%\n",
            "================================\n",
            "[[47 16]\n",
            " [14 29]]\n",
            "Testset: Accurarcy 71.70%\n",
            "================================\n"
          ],
          "name": "stdout"
        }
      ]
    },
    {
      "cell_type": "code",
      "metadata": {
        "id": "fZ0nBLjcjeo6",
        "colab": {
          "base_uri": "https://localhost:8080/"
        },
        "outputId": "01d75eee-1192-49e0-8c20-084d60f7aa14"
      },
      "source": [
        "# fit the model and get the separating hyperplane using weighted classes\n",
        "wclf = svm.SVC(kernel='linear', class_weight={1:2})\n",
        "train_and_predict_using_model('SVM uneven class weight', wclf)"
      ],
      "execution_count": 20,
      "outputs": [
        {
          "output_type": "stream",
          "text": [
            "SVM uneven class weight\n",
            "================================\n",
            "Training confusion matrix: \n",
            "[[127  75]\n",
            " [ 33 188]]\n",
            "TrainSet: Accurarcy 74.47%\n",
            "================================\n",
            "[[41 22]\n",
            " [ 7 36]]\n",
            "Testset: Accurarcy 72.64%\n",
            "================================\n"
          ],
          "name": "stdout"
        }
      ]
    },
    {
      "cell_type": "markdown",
      "metadata": {
        "id": "nKJBjSe0ke7Y"
      },
      "source": [
        "## Naive Bayes"
      ]
    },
    {
      "cell_type": "code",
      "metadata": {
        "id": "8qphxloNj1D9",
        "colab": {
          "base_uri": "https://localhost:8080/"
        },
        "outputId": "0968a625-1579-4fd1-d0f4-3519638d6947"
      },
      "source": [
        "from sklearn.naive_bayes import GaussianNB\n",
        "\n",
        "# maximum likelihood\n",
        "\n",
        "gnb = GaussianNB()\n",
        "train_and_predict_using_model(\"Naive Bayes\", gnb)"
      ],
      "execution_count": 21,
      "outputs": [
        {
          "output_type": "stream",
          "text": [
            "Naive Bayes\n",
            "================================\n",
            "Training confusion matrix: \n",
            "[[184  18]\n",
            " [ 86 135]]\n",
            "TrainSet: Accurarcy 75.41%\n",
            "================================\n",
            "[[60  3]\n",
            " [17 26]]\n",
            "Testset: Accurarcy 81.13%\n",
            "================================\n"
          ],
          "name": "stdout"
        }
      ]
    },
    {
      "cell_type": "markdown",
      "metadata": {
        "id": "rUCsq6QvlDNQ"
      },
      "source": [
        "### Important hyper parameters:\n",
        "\n",
        "- Priors\n",
        "    - estimator will calculate for you. Not recommended to change. "
      ]
    },
    {
      "cell_type": "code",
      "metadata": {
        "id": "URo0PGMilk97"
      },
      "source": [
        ""
      ],
      "execution_count": null,
      "outputs": []
    }
  ]
}
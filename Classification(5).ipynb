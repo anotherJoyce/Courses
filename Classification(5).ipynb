{
  "nbformat": 4,
  "nbformat_minor": 0,
  "metadata": {
    "colab": {
      "name": "Classification.ipynb",
      "provenance": [],
      "collapsed_sections": [],
      "toc_visible": true
    },
    "kernelspec": {
      "display_name": "Python 3",
      "language": "python",
      "name": "python3"
    },
    "language_info": {
      "codemirror_mode": {
        "name": "ipython",
        "version": 3
      },
      "file_extension": ".py",
      "mimetype": "text/x-python",
      "name": "python",
      "nbconvert_exporter": "python",
      "pygments_lexer": "ipython3",
      "version": "3.7.6-final"
    }
  },
  "cells": [
    {
      "cell_type": "code",
      "metadata": {
        "id": "Ce1il03S6_Te",
        "tags": [],
        "colab": {
          "base_uri": "https://localhost:8080/"
        },
        "outputId": "572c068c-69b7-47d1-f315-c40cb9626028"
      },
      "source": [
        "from keras.models import Sequential\n",
        "from keras.layers import Dense, Dropout\n",
        "from sklearn.metrics import classification_report, confusion_matrix\n",
        "from sklearn.model_selection import train_test_split\n",
        "import numpy\n",
        "from sklearn import linear_model\n",
        "from sklearn import preprocessing\n",
        "from sklearn import tree\n",
        "from sklearn.ensemble import RandomForestClassifier,GradientBoostingClassifier\n",
        "import pandas as pd\n",
        "import csv\n",
        "\n",
        "\n",
        "Y_position = 4\n",
        "\n",
        "# fix random seed for reproducibility\n",
        "numpy.random.seed(7)\n",
        "# load pima indians dataset\n",
        "dataset = pd.read_csv(\"/content/MutualFund (Edited).csv\")\n",
        "# split into input (X) and output (Y) variables\n",
        "\n",
        "df = dataset\n",
        "print(df)\n",
        "\t# summary statistics\n",
        "print(df.describe())\n",
        "\n",
        "corr=df.corr(method ='pearson')\n",
        "print(corr)\n",
        "corr.to_csv('corr.csv')\n",
        "\n",
        "X = dataset.iloc[:,0:Y_position]\n",
        "Y = dataset.iloc[:,Y_position]\n",
        "# create model\n",
        "X_train, X_test, y_train, y_test = train_test_split(X, Y, test_size=0.40, random_state=2020)\n",
        "\n",
        "#scaling to around -2 to 2 (Z)\n",
        "scaler = preprocessing.StandardScaler().fit(X_train)\n",
        "scaled_X_train = scaler.transform(X_train)\n",
        "scaled_X_test = scaler.transform(X_test)\n",
        "\n",
        "#Model 1 : linear regression\n",
        "#https://scikit-learn.org/stable/modules/generated/sklearn.linear_model.LogisticRegression.html\n",
        "#class sklearn.linear_model.LogisticRegression(penalty='l2', *, dual=False, tol=0.0001, C=1.0, fit_intercept=True, \n",
        "#intercept_scaling=1, class_weight=None, random_state=None, solver='lbfgs', max_iter=100, multi_class='auto', \n",
        "#verbose=0, warm_start=False, n_jobs=None, l1_ratio=None)\n",
        "\n",
        "linear_classifier = linear_model.LogisticRegression(random_state=123)\n",
        "linear_classifier.fit(scaled_X_train, y_train)\n",
        "y_pred_train1 = linear_classifier.predict(scaled_X_train)\n",
        "cm1_train = confusion_matrix(y_train,y_pred_train1)\n",
        "print(\"Regression\")\n",
        "print(\"================================\")\n",
        "print(cm1_train)\n",
        "acc_train1 = (cm1_train[0,0] + cm1_train[1,1]) / sum(sum(cm1_train))\n",
        "print(\"Regression TrainSet: Accurarcy %.2f%%\" % (acc_train1*100))\n",
        "print(\"================================\")\n",
        "y_pred1 = linear_classifier.predict(scaled_X_test)\n",
        "cm1 = confusion_matrix(y_test,y_pred1)\n",
        "print(cm1)\n",
        "acc1 = (cm1[0,0] + cm1[1,1]) / sum(sum(cm1))\n",
        "print(\"Regression Testset: Accurarcy %.2f%%\" % (acc1*100))\n",
        "print(\"================================\")\n",
        "print(\"================================\")\n",
        "print(\"================================\")\n",
        "\n",
        "\n",
        "#Model 2: decision tree\n",
        "#https://scikit-learn.org/stable/modules/generated/sklearn.tree.DecisionTreeClassifier.html\n",
        "#class sklearn.tree.DecisionTreeClassifier(*, criterion='gini', splitter='best', max_depth=None, min_samples_split=2, \n",
        "#min_samples_leaf=1, min_weight_fraction_leaf=0.0, max_features=None, random_state=None, max_leaf_nodes=None, \n",
        "#min_impurity_decrease=0.0, min_impurity_split=None, class_weight=None, presort='deprecated', ccp_alpha=0.0)\n",
        "\n",
        "clf = tree.DecisionTreeClassifier()\n",
        "clf = clf.fit(scaled_X_train, y_train)\n",
        "y_pred_train2 = clf.predict(scaled_X_train)\n",
        "cm2_train = confusion_matrix(y_train,y_pred_train2)\n",
        "print(\"Decision Tree\")\n",
        "print(\"================================\")\n",
        "print(cm2_train)\n",
        "acc_train2 = (cm2_train[0,0] + cm2_train[1,1]) / sum(sum(cm2_train))\n",
        "print(\"Decsion Tree TrainSet: Accurarcy %.2f%%\" % (acc_train2*100))\n",
        "print(\"================================\")\n",
        "y_pred2 = clf.predict(scaled_X_test)\n",
        "cm2 = confusion_matrix(y_test,y_pred2)\n",
        "acc2 = (cm2[0,0] + cm2[1,1]) / sum(sum(cm2))\n",
        "print(cm2)\n",
        "print(\"Decision Tree Testset: Accurarcy %.2f%%\" % (acc2*100))\n",
        "print(\"================================\")\n",
        "print(\"================================\")\n",
        "print(\"================================\")\n",
        "\n",
        "\n",
        "#Model 3 random forest\n",
        "#https://scikit-learn.org/stable/modules/generated/sklearn.ensemble.RandomForestClassifier.html\n",
        "#class sklearn.ensemble.RandomForestClassifier(n_estimators=100, *, criterion='gini', max_depth=None, \n",
        "#min_samples_split=2, min_samples_leaf=1, min_weight_fraction_leaf=0.0, max_features='auto', \n",
        "#max_leaf_nodes=None, min_impurity_decrease=0.0, min_impurity_split=None, bootstrap=True, oob_score=False, \n",
        "#n_jobs=None, random_state=None, verbose=0, warm_start=False, class_weight=None, ccp_alpha=0.0, max_samples=None)[source]\n",
        "\n",
        "model3 = RandomForestClassifier(n_estimators=100, max_depth=2,random_state=0)\n",
        "model3.fit(scaled_X_train, y_train)\n",
        "y_predicted3 = model3.predict(scaled_X_test)\n",
        "\n",
        "y_pred_train3 = model3.predict(scaled_X_train)\n",
        "cm3_train = confusion_matrix(y_train,y_pred_train3)\n",
        "print(\"Random Forest\")\n",
        "print(\"================================\")\n",
        "print(cm3_train)\n",
        "acc_train3 = (cm3_train[0,0] + cm3_train[1,1]) / sum(sum(cm3_train))\n",
        "print(\"Random Forest TrainSet: Accurarcy %.2f%%\" % (acc_train3*100))\n",
        "print(\"================================\")\n",
        "y_pred3 = model3.predict(scaled_X_test)\n",
        "cm_test3 = confusion_matrix(y_test,y_pred3)\n",
        "print(cm_test3)\n",
        "acc_test3 = (cm_test3[0,0] + cm_test3[1,1]) / sum(sum(cm_test3))\n",
        "print(\"Random Forest Testset: Accurarcy %.2f%%\" % (acc_test3*100))\n",
        "print(\"================================\")\n",
        "print(\"================================\")\n",
        "print(\"================================\")\n",
        "\n",
        "#Model 4: XGBoost\n",
        "\n",
        "print(\"Xgboost\")\n",
        "print(\"================================\")\n",
        "#class sklearn.ensemble.GradientBoostingClassifier(*, loss='deviance', learning_rate=0.1, n_estimators=100, \n",
        "#subsample=1.0, criterion='friedman_mse', min_samples_split=2, min_samples_leaf=1, min_weight_fraction_leaf=0.0, \n",
        "#max_depth=3, min_impurity_decrease=0.0, min_impurity_split=None, init=None, random_state=None, max_features=None, \n",
        "#verbose=0, max_leaf_nodes=None, warm_start=False, presort='deprecated', validation_fraction=0.1, \n",
        "#n_iter_no_change=None, tol=0.0001, ccp_alpha=0.0)[source]\n",
        "#https://scikit-learn.org/stable/modules/generated/sklearn.ensemble.GradientBoostingClassifier.html\n",
        "\n",
        "model4 = GradientBoostingClassifier(random_state=0)\n",
        "model4.fit(scaled_X_train, y_train)\n",
        "y_pred_train4 = model4.predict(scaled_X_train)\n",
        "cm4_train = confusion_matrix(y_train,y_pred_train4)\n",
        "print(cm4_train)\n",
        "acc_train4 = (cm4_train[0,0] + cm4_train[1,1]) / sum(sum(cm4_train))\n",
        "print(\"Xgboost TrainSet: Accurarcy %.2f%%\" % (acc_train4*100))\n",
        "predictions = model4.predict(scaled_X_test)\n",
        "y_pred4 = (predictions > 0.5)\n",
        "y_pred4 =y_pred4*1 #convert to 0,1 instead of True False\n",
        "cm4 = confusion_matrix(y_test, y_pred4)\n",
        "print(\"==================================\")\n",
        "print(\"Xgboost on testset confusion matrix\")\n",
        "print(cm4)\n",
        "acc4 = (cm4[0,0] + cm4[1,1]) / sum(sum(cm4))\n",
        "print(\"Xgboost on TestSet: Accuracy %.2f%%\" % (acc4*100))\n",
        "print(\"==================================\")\n",
        "\n",
        "#Model 5: neural network\n",
        "#https://www.tensorflow.org/guide/keras/train_and_evaluate\n",
        "model = Sequential()\n",
        "model.add(Dense(10, input_dim=Y_position, activation='relu'))\n",
        "#model.add(Dense(10, activation='relu'))\n",
        "#model.add(Dropout(0.2))\n",
        "model.add(Dense(1, activation='sigmoid'))\n",
        "# Compile mode\n",
        "# https://www.tensorflow.org/guide/keras/train_and_evaluate\n",
        "\n",
        "model.compile(loss='binary_crossentropy', optimizer='Adamax', metrics=['accuracy'])\n",
        "# Fit the model\n",
        "model.fit(X_train, y_train, epochs=100, batch_size=5, verbose=0)\n",
        "# evaluate the model\n",
        "scores = model.evaluate(X_train, y_train)\n",
        "#print(scores)\n",
        "print(\"Neural Network Trainset: \\n%s: %.2f%%\" % (model.metrics_names[1], scores[1]*100))\n",
        "\n",
        "predictions5 = model.predict(X_test)\n",
        "#print(predictions)\n",
        "#print('predictions shape:', predictions.shape)\n",
        "\n",
        "y_pred5 = (predictions5 > 0.5)\n",
        "y_pred5 = y_pred5*1 #convert to 0,1 instead of True False\n",
        "cm5 = confusion_matrix(y_test, y_pred5)\n",
        "print(\"==================================\")\n",
        "print(\"==================================\")\n",
        "print(\"Neural Network on testset confusion matrix\")\n",
        "print(cm5)\n",
        "\n",
        "## Get accurary from Confusion matrix\n",
        "## Position 0,0 and 1,1 are the correct predictions \n",
        "acc5 = (cm5[0,0] + cm5[1,1]) / sum(sum(cm5))\n",
        "print(\"Neural Network on TestSet: Accuracy %.2f%%\" % (acc5*100))\n",
        "\n"
      ],
      "execution_count": 1,
      "outputs": [
        {
          "output_type": "stream",
          "text": [
            "     return_rating  risk_rating  ...  size_type  fund_treynor_ratio_10years\n",
            "0                3            3  ...          3                           0\n",
            "1                5            5  ...          3                           1\n",
            "2                3            4  ...          3                           1\n",
            "3                4            3  ...          3                           1\n",
            "4                2            3  ...          3                           0\n",
            "..             ...          ...  ...        ...                         ...\n",
            "494              3            4  ...          3                           0\n",
            "495              4            5  ...          3                           1\n",
            "496              3            3  ...          2                           1\n",
            "497              3            4  ...          3                           0\n",
            "498              3            4  ...          3                           0\n",
            "\n",
            "[499 rows x 5 columns]\n",
            "       return_rating  risk_rating  ...   size_type  fund_treynor_ratio_10years\n",
            "count     499.000000   499.000000  ...  499.000000                  499.000000\n",
            "mean        2.927856     3.098196  ...    2.543086                    0.498998\n",
            "std         1.084208     1.130260  ...    0.685219                    0.500501\n",
            "min         1.000000     1.000000  ...    1.000000                    0.000000\n",
            "25%         2.000000     2.000000  ...    2.000000                    0.000000\n",
            "50%         3.000000     3.000000  ...    3.000000                    0.000000\n",
            "75%         4.000000     4.000000  ...    3.000000                    1.000000\n",
            "max         5.000000     5.000000  ...    3.000000                    1.000000\n",
            "\n",
            "[8 rows x 5 columns]\n",
            "                            return_rating  ...  fund_treynor_ratio_10years\n",
            "return_rating                    1.000000  ...                    0.273699\n",
            "risk_rating                      0.061506  ...                   -0.200382\n",
            "investment_type                 -0.184485  ...                    0.011489\n",
            "size_type                        0.106902  ...                    0.139185\n",
            "fund_treynor_ratio_10years       0.273699  ...                    1.000000\n",
            "\n",
            "[5 rows x 5 columns]\n",
            "Regression\n",
            "================================\n",
            "[[ 86  58]\n",
            " [ 44 111]]\n",
            "Regression TrainSet: Accurarcy 65.89%\n",
            "================================\n",
            "[[58 48]\n",
            " [19 75]]\n",
            "Regression Testset: Accurarcy 66.50%\n",
            "================================\n",
            "================================\n",
            "================================\n",
            "Decision Tree\n",
            "================================\n",
            "[[124  20]\n",
            " [ 27 128]]\n",
            "Decsion Tree TrainSet: Accurarcy 84.28%\n",
            "================================\n",
            "[[77 29]\n",
            " [21 73]]\n",
            "Decision Tree Testset: Accurarcy 75.00%\n",
            "================================\n",
            "================================\n",
            "================================\n",
            "Random Forest\n",
            "================================\n",
            "[[ 81  63]\n",
            " [ 35 120]]\n",
            "Random Forest TrainSet: Accurarcy 67.22%\n",
            "================================\n",
            "[[59 47]\n",
            " [22 72]]\n",
            "Random Forest Testset: Accurarcy 65.50%\n",
            "================================\n",
            "================================\n",
            "================================\n",
            "Xgboost\n",
            "================================\n",
            "[[106  38]\n",
            " [ 27 128]]\n",
            "Xgboost TrainSet: Accurarcy 78.26%\n",
            "==================================\n",
            "Xgboost on testset confusion matrix\n",
            "[[70 36]\n",
            " [19 75]]\n",
            "Xgboost on TestSet: Accuracy 72.50%\n",
            "==================================\n",
            "10/10 [==============================] - 0s 2ms/step - loss: 0.6189 - accuracy: 0.6622\n",
            "Neural Network Trainset: \n",
            "accuracy: 66.22%\n",
            "==================================\n",
            "==================================\n",
            "Neural Network on testset confusion matrix\n",
            "[[48 58]\n",
            " [22 72]]\n",
            "Neural Network on TestSet: Accuracy 60.00%\n"
          ],
          "name": "stdout"
        }
      ]
    },
    {
      "cell_type": "markdown",
      "metadata": {
        "id": "WLXptszenQpc"
      },
      "source": [
        "## Model helper function\n"
      ]
    },
    {
      "cell_type": "code",
      "metadata": {
        "id": "kDNrvC23nSDS"
      },
      "source": [
        "def train_and_predict_using_model(model_name= \"\",model=None):\n",
        "    model.fit(scaled_X_train, y_train)\n",
        "    y_predicted = model3.predict(scaled_X_test)\n",
        "    y_pred_train = model.predict(scaled_X_train)\n",
        "    cm_train = confusion_matrix(y_train,y_pred_train)\n",
        "    print(model_name)\n",
        "    print(\"================================\")\n",
        "    print(\"Training confusion matrix: \")\n",
        "    print(cm_train)\n",
        "    acc_train = (cm_train[0,0] + cm_train[1,1]) / sum(sum(cm_train))\n",
        "    print(\"TrainSet: Accurarcy %.2f%%\" % (acc_train*100))\n",
        "    print(\"================================\")\n",
        "    y_pred = model.predict(scaled_X_test)\n",
        "    cm_test = confusion_matrix(y_test,y_pred)\n",
        "    print(cm_test)\n",
        "    acc_test = (cm_test[0,0] + cm_test[1,1]) / sum(sum(cm_test))\n",
        "    print(\"Testset: Accurarcy %.2f%%\" % (acc_test*100))\n",
        "    print(\"================================\")"
      ],
      "execution_count": 2,
      "outputs": []
    },
    {
      "cell_type": "markdown",
      "metadata": {
        "id": "3nSZP7j1dIBJ"
      },
      "source": [
        "## Feature importance\n",
        "\n",
        "### Feature importances with forests of trees"
      ]
    },
    {
      "cell_type": "code",
      "metadata": {
        "tags": [],
        "id": "whZbWt0hdIBK",
        "colab": {
          "base_uri": "https://localhost:8080/"
        },
        "outputId": "de1ed172-0a2d-49f8-cce0-bc525b629822"
      },
      "source": [
        "RF = model3\n",
        "importances = RF.feature_importances_\n",
        "std = numpy.std([tree.feature_importances_ for tree in RF.estimators_],\n",
        "             axis=0)\n",
        "indices = numpy.argsort(importances)[::-1]\n",
        "\n",
        "# Print the feature ranking\n",
        "print(\"Feature ranking:\")\n",
        "\n",
        "for f in range(X.shape[1]):\n",
        "    print(\"%d. feature (Column index) %s (%f)\" % (f + 1, indices[f], importances[indices[f]]))"
      ],
      "execution_count": null,
      "outputs": [
        {
          "output_type": "stream",
          "text": [
            "Feature ranking:\n",
            "1. feature (Column index) 0 (0.365499)\n",
            "2. feature (Column index) 3 (0.363115)\n",
            "3. feature (Column index) 2 (0.160760)\n",
            "4. feature (Column index) 1 (0.110626)\n"
          ],
          "name": "stdout"
        }
      ]
    },
    {
      "cell_type": "code",
      "metadata": {
        "id": "BuDxnhWGdIBh",
        "colab": {
          "base_uri": "https://localhost:8080/",
          "height": 265
        },
        "outputId": "bb54345d-c53c-4cf8-99f3-ccce64536e48"
      },
      "source": [
        "import seaborn as sns\n",
        "import pandas as pd\n",
        "boxplot = pd.DataFrame(dataset).boxplot()"
      ],
      "execution_count": null,
      "outputs": [
        {
          "output_type": "display_data",
          "data": {
            "image/png": "[encoded data removed]",
            "text/plain": [
              "<Figure size 432x288 with 1 Axes>"
            ]
          },
          "metadata": {
            "tags": [],
            "needs_background": "light"
          }
        }
      ]
    },
    {
      "cell_type": "markdown",
      "metadata": {
        "id": "xXFywaNXvGxt"
      },
      "source": [
        "## Remove outlier"
      ]
    },
    {
      "cell_type": "code",
      "metadata": {
        "id": "0vDI9ZQJvDq2",
        "colab": {
          "base_uri": "https://localhost:8080/"
        },
        "outputId": "8241ddca-5528-40ed-e882-05e8eeb87e63"
      },
      "source": [
        "df = pd.DataFrame(dataset)\n",
        "quantile = df.iloc[:,4].quantile(0.99)\n",
        "df1 = df[df.iloc[:,4] < quantile]\n",
        "df.shape, df1.shape"
      ],
      "execution_count": null,
      "outputs": [
        {
          "output_type": "execute_result",
          "data": {
            "text/plain": [
              "((1021, 5), (511, 5))"
            ]
          },
          "metadata": {
            "tags": []
          },
          "execution_count": 6
        }
      ]
    },
    {
      "cell_type": "code",
      "metadata": {
        "id": "sGgSwffuvIRV"
      },
      "source": [
        "df1 = df1.dropna()"
      ],
      "execution_count": null,
      "outputs": []
    },
    {
      "cell_type": "markdown",
      "metadata": {
        "id": "c0oHOT1nvTkH"
      },
      "source": [
        "## Use top 3 features"
      ]
    },
    {
      "cell_type": "code",
      "metadata": {
        "id": "VRvAbgUivSsX",
        "colab": {
          "base_uri": "https://localhost:8080/"
        },
        "outputId": "039300b4-4098-4944-9f66-ad618b1e024f"
      },
      "source": [
        "Y_position = 4\n",
        "TOP_N_FEATURE = 3\n",
        "\n",
        "indices_top3 = indices[:TOP_N_FEATURE]\n",
        "print(indices_top3)\n",
        "\n",
        "# fix random seed for reproducibility\n",
        "numpy.random.seed(7)\n",
        "# load pima indians dataset\n",
        "dataset = pd.read_csv(\"/content/Financial Ratio Edited 2.csv\")\n",
        "# split into input (X) and output (Y) variables\n",
        "\n",
        "df = dataset\n",
        "print(df)\n",
        "df = pd.DataFrame(dataset)\n",
        "\n",
        "X = dataset.iloc[:,indices_top3]\n",
        "Y = dataset.iloc[:,Y_position]\n",
        "# create model\n",
        "X_train, X_test, y_train, y_test = train_test_split(X, Y, test_size=0.20, random_state=2020)\n",
        "\n",
        "\n",
        "#scaling to around -2 to 2 (Z)\n",
        "scaler = preprocessing.StandardScaler().fit(X_train)\n",
        "scaled_X_train = scaler.transform(X_train)\n",
        "scaled_X_test = scaler.transform(X_test)\n",
        "\n",
        "#Model 1 : linear regression\n",
        "#https://scikit-learn.org/stable/modules/generated/sklearn.linear_model.LogisticRegression.html\n",
        "#class sklearn.linear_model.LogisticRegression(penalty='l2', *, dual=False, tol=0.0001, C=1.0, fit_intercept=True, \n",
        "#intercept_scaling=1, class_weight=None, random_state=None, solver='lbfgs', max_iter=100, multi_class='auto', \n",
        "#verbose=0, warm_start=False, n_jobs=None, l1_ratio=None)\n",
        "\n",
        "linear_classifier = linear_model.LogisticRegression(random_state=123)\n",
        "linear_classifier.fit(scaled_X_train, y_train)\n",
        "y_pred_train1 = linear_classifier.predict(scaled_X_train)\n",
        "cm1_train = confusion_matrix(y_train,y_pred_train1)\n",
        "print(\"Regression\")\n",
        "print(\"================================\")\n",
        "print(cm1_train)\n",
        "acc_train1 = (cm1_train[0,0] + cm1_train[1,1]) / sum(sum(cm1_train))\n",
        "print(\"Regression TrainSet: Accurarcy %.2f%%\" % (acc_train1*100))\n",
        "print(\"================================\")\n",
        "y_pred1 = linear_classifier.predict(scaled_X_test)\n",
        "cm1 = confusion_matrix(y_test,y_pred1)\n",
        "print(cm1)\n",
        "acc1 = (cm1[0,0] + cm1[1,1]) / sum(sum(cm1))\n",
        "print(\"Regression Testset: Accurarcy %.2f%%\" % (acc1*100))\n",
        "print(\"================================\")\n",
        "print(\"================================\")\n",
        "print(\"================================\")\n",
        "\n",
        "\n",
        "#Model 2: decision tree\n",
        "#https://scikit-learn.org/stable/modules/generated/sklearn.tree.DecisionTreeClassifier.html\n",
        "#class sklearn.tree.DecisionTreeClassifier(*, criterion='gini', splitter='best', max_depth=None, min_samples_split=2, \n",
        "#min_samples_leaf=1, min_weight_fraction_leaf=0.0, max_features=None, random_state=None, max_leaf_nodes=None, \n",
        "#min_impurity_decrease=0.0, min_impurity_split=None, class_weight=None, presort='deprecated', ccp_alpha=0.0)\n",
        "\n",
        "clf = tree.DecisionTreeClassifier()\n",
        "clf = clf.fit(scaled_X_train, y_train)\n",
        "y_pred_train2 = clf.predict(scaled_X_train)\n",
        "cm2_train = confusion_matrix(y_train,y_pred_train2)\n",
        "print(\"Decision Tree\")\n",
        "print(\"================================\")\n",
        "print(cm2_train)\n",
        "acc_train2 = (cm2_train[0,0] + cm2_train[1,1]) / sum(sum(cm2_train))\n",
        "print(\"Decsion Tree TrainSet: Accurarcy %.2f%%\" % (acc_train2*100))\n",
        "print(\"================================\")\n",
        "y_pred2 = clf.predict(scaled_X_test)\n",
        "cm2 = confusion_matrix(y_test,y_pred2)\n",
        "acc2 = (cm2[0,0] + cm2[1,1]) / sum(sum(cm2))\n",
        "print(cm2)\n",
        "print(\"Decision Tree Testset: Accurarcy %.2f%%\" % (acc2*100))\n",
        "print(\"================================\")\n",
        "print(\"================================\")\n",
        "print(\"================================\")\n",
        "\n",
        "\n",
        "#Model 3 random forest\n",
        "#https://scikit-learn.org/stable/modules/generated/sklearn.ensemble.RandomForestClassifier.html\n",
        "#class sklearn.ensemble.RandomForestClassifier(n_estimators=100, *, criterion='gini', max_depth=None, \n",
        "#min_samples_split=2, min_samples_leaf=1, min_weight_fraction_leaf=0.0, max_features='auto', \n",
        "#max_leaf_nodes=None, min_impurity_decrease=0.0, min_impurity_split=None, bootstrap=True, oob_score=False, \n",
        "#n_jobs=None, random_state=None, verbose=0, warm_start=False, class_weight=None, ccp_alpha=0.0, max_samples=None)[source]\n",
        "\n",
        "model3 = RandomForestClassifier(n_estimators=100, max_depth=2,random_state=0)\n",
        "model3.fit(scaled_X_train, y_train)\n",
        "y_predicted3 = model3.predict(scaled_X_test)\n",
        "\n",
        "y_pred_train3 = model3.predict(scaled_X_train)\n",
        "cm3_train = confusion_matrix(y_train,y_pred_train3)\n",
        "print(\"Random Forest\")\n",
        "print(\"================================\")\n",
        "print(cm3_train)\n",
        "acc_train3 = (cm3_train[0,0] + cm3_train[1,1]) / sum(sum(cm3_train))\n",
        "print(\"Random Forest TrainSet: Accurarcy %.2f%%\" % (acc_train3*100))\n",
        "print(\"================================\")\n",
        "y_pred3 = model3.predict(scaled_X_test)\n",
        "cm_test3 = confusion_matrix(y_test,y_pred3)\n",
        "print(cm_test3)\n",
        "acc_test3 = (cm_test3[0,0] + cm_test3[1,1]) / sum(sum(cm_test3))\n",
        "print(\"Random Forest Testset: Accurarcy %.2f%%\" % (acc_test3*100))\n",
        "print(\"================================\")\n",
        "print(\"================================\")\n",
        "print(\"================================\")\n",
        "\n",
        "#Model 4: XGBoost\n",
        "\n",
        "print(\"Xgboost\")\n",
        "print(\"================================\")\n",
        "#class sklearn.ensemble.GradientBoostingClassifier(*, loss='deviance', learning_rate=0.1, n_estimators=100, \n",
        "#subsample=1.0, criterion='friedman_mse', min_samples_split=2, min_samples_leaf=1, min_weight_fraction_leaf=0.0, \n",
        "#max_depth=3, min_impurity_decrease=0.0, min_impurity_split=None, init=None, random_state=None, max_features=None, \n",
        "#verbose=0, max_leaf_nodes=None, warm_start=False, presort='deprecated', validation_fraction=0.1, \n",
        "#n_iter_no_change=None, tol=0.0001, ccp_alpha=0.0)[source]\n",
        "#https://scikit-learn.org/stable/modules/generated/sklearn.ensemble.GradientBoostingClassifier.html\n",
        "\n",
        "model4 = GradientBoostingClassifier(random_state=0)\n",
        "model4.fit(scaled_X_train, y_train)\n",
        "y_pred_train4 = model4.predict(scaled_X_train)\n",
        "cm4_train = confusion_matrix(y_train,y_pred_train4)\n",
        "print(cm4_train)\n",
        "acc_train4 = (cm4_train[0,0] + cm4_train[1,1]) / sum(sum(cm4_train))\n",
        "print(\"Xgboost TrainSet: Accurarcy %.2f%%\" % (acc_train4*100))\n",
        "predictions = model4.predict(scaled_X_test)\n",
        "y_pred4 = (predictions > 0.5)\n",
        "y_pred4 =y_pred4*1 #convert to 0,1 instead of True False\n",
        "cm4 = confusion_matrix(y_test, y_pred4)\n",
        "print(\"==================================\")\n",
        "print(\"Xgboost on testset confusion matrix\")\n",
        "print(cm4)\n",
        "acc4 = (cm4[0,0] + cm4[1,1]) / sum(sum(cm4))\n",
        "print(\"Xgboost on TestSet: Accuracy %.2f%%\" % (acc4*100))\n",
        "print(\"==================================\")\n",
        "\n",
        "#Model 5: neural network\n",
        "#https://www.tensorflow.org/guide/keras/train_and_evaluate\n",
        "\n",
        "model = Sequential()\n",
        "model.add(Dense(10, input_dim=TOP_N_FEATURE, activation='relu'))\n",
        "#model.add(Dense(10, activation='relu'))\n",
        "#model.add(Dropout(0.2))\n",
        "model.add(Dense(1, activation='sigmoid'))\n",
        "# Compile mode\n",
        "# https://www.tensorflow.org/guide/keras/train_and_evaluate\n",
        "\n",
        "model.compile(loss='binary_crossentropy', optimizer='Adamax', metrics=['accuracy'])\n",
        "# Fit the model\n",
        "model.fit(X_train, y_train, epochs=100, batch_size=5, verbose=0)\n",
        "# evaluate the model\n",
        "scores = model.evaluate(X_train, y_train)\n",
        "#print(scores)\n",
        "print(\"Neural Network Trainset: \\n%s: %.2f%%\" % (model.metrics_names[1], scores[1]*100))\n",
        "\n",
        "predictions5 = model.predict(X_test)\n",
        "#print(predictions)\n",
        "#print('predictions shape:', predictions.shape)\n",
        "\n",
        "y_pred5 = (predictions5 > 0.5)\n",
        "y_pred5 = y_pred5*1 #convert to 0,1 instead of True False\n",
        "cm5 = confusion_matrix(y_test, y_pred5)\n",
        "print(\"==================================\")\n",
        "print(\"==================================\")\n",
        "print(\"Neural Network on testset confusion matrix\")\n",
        "print(cm5)\n",
        "\n",
        "## Get accurary from Confusion matrix\n",
        "## Position 0,0 and 1,1 are the correct predictions \n",
        "acc5 = (cm5[0,0] + cm5[1,1]) / sum(sum(cm5))\n",
        "print(\"Neural Network on TestSet: Accuracy %.2f%%\" % (acc5*100))"
      ],
      "execution_count": null,
      "outputs": [
        {
          "output_type": "stream",
          "text": [
            "[0 3 2]\n",
            "      priceToSalesRatio  ...  priceCashFlowRatio\n",
            "0                1.0000  ...                   0\n",
            "1                0.4847  ...                   1\n",
            "2                0.6173  ...                   0\n",
            "3                0.5887  ...                   0\n",
            "4                1.0000  ...                   0\n",
            "...                 ...  ...                 ...\n",
            "1016             0.5944  ...                   0\n",
            "1017             0.6813  ...                   1\n",
            "1018             0.2112  ...                   0\n",
            "1019             0.3060  ...                   1\n",
            "1020             0.1504  ...                   0\n",
            "\n",
            "[1021 rows x 5 columns]\n",
            "Regression\n",
            "================================\n",
            "[[148 254]\n",
            " [101 313]]\n",
            "Regression TrainSet: Accurarcy 56.50%\n",
            "================================\n",
            "[[37 72]\n",
            " [25 71]]\n",
            "Regression Testset: Accurarcy 52.68%\n",
            "================================\n",
            "================================\n",
            "================================\n",
            "Decision Tree\n",
            "================================\n",
            "[[402   0]\n",
            " [  0 414]]\n",
            "Decsion Tree TrainSet: Accurarcy 100.00%\n",
            "================================\n",
            "[[66 43]\n",
            " [47 49]]\n",
            "Decision Tree Testset: Accurarcy 56.10%\n",
            "================================\n",
            "================================\n",
            "================================\n",
            "Random Forest\n",
            "================================\n",
            "[[160 242]\n",
            " [ 73 341]]\n",
            "Random Forest TrainSet: Accurarcy 61.40%\n",
            "================================\n",
            "[[46 63]\n",
            " [22 74]]\n",
            "Random Forest Testset: Accurarcy 58.54%\n",
            "================================\n",
            "================================\n",
            "================================\n",
            "Xgboost\n",
            "================================\n",
            "[[323  79]\n",
            " [ 49 365]]\n",
            "Xgboost TrainSet: Accurarcy 84.31%\n",
            "==================================\n",
            "Xgboost on testset confusion matrix\n",
            "[[63 46]\n",
            " [35 61]]\n",
            "Xgboost on TestSet: Accuracy 60.49%\n",
            "==================================\n",
            "26/26 [==============================] - 0s 1ms/step - loss: 0.6625 - accuracy: 0.6287\n",
            "Neural Network Trainset: \n",
            "accuracy: 62.87%\n",
            "==================================\n",
            "==================================\n",
            "Neural Network on testset confusion matrix\n",
            "[[45 64]\n",
            " [28 68]]\n",
            "Neural Network on TestSet: Accuracy 55.12%\n"
          ],
          "name": "stdout"
        }
      ]
    },
    {
      "cell_type": "code",
      "metadata": {
        "id": "ZAgMlQOWhJjA"
      },
      "source": [
        ""
      ],
      "execution_count": null,
      "outputs": []
    },
    {
      "cell_type": "markdown",
      "metadata": {
        "id": "PEGm4HurdgXA"
      },
      "source": [
        "# Other models and how to configure"
      ]
    },
    {
      "cell_type": "markdown",
      "metadata": {
        "id": "8F3EhgupiKda"
      },
      "source": [
        "## SVM"
      ]
    },
    {
      "cell_type": "code",
      "metadata": {
        "id": "AyVH_vlnh_HQ",
        "colab": {
          "base_uri": "https://localhost:8080/"
        },
        "outputId": "5894aa33-e6dc-453f-fa44-c20f1d96a522"
      },
      "source": [
        "from sklearn import svm\n",
        "\n",
        "clf = svm.SVC()\n",
        "train_and_predict_using_model(\"SVM (Classifier)\", clf)"
      ],
      "execution_count": null,
      "outputs": [
        {
          "output_type": "stream",
          "text": [
            "SVM (Classifier)\n",
            "================================\n",
            "Training confusion matrix: \n",
            "[[240 162]\n",
            " [133 281]]\n",
            "TrainSet: Accurarcy 63.85%\n",
            "================================\n",
            "[[68 41]\n",
            " [34 62]]\n",
            "Testset: Accurarcy 63.41%\n",
            "================================\n"
          ],
          "name": "stdout"
        }
      ]
    },
    {
      "cell_type": "markdown",
      "metadata": {
        "id": "3IY2MhXmiuF3"
      },
      "source": [
        "### Important hyper parameters:\n",
        "- kernel\n",
        "    - rbf\n",
        "    - polynomial\n",
        "    - sigmoid\n",
        "\n",
        "- class weight\n",
        "    - for unbalanced dataset"
      ]
    },
    {
      "cell_type": "code",
      "metadata": {
        "id": "yGfeFhrcitKP",
        "colab": {
          "base_uri": "https://localhost:8080/"
        },
        "outputId": "61c89a0d-e39e-45b3-9b69-d75950deb980"
      },
      "source": [
        "rbf_svc = svm.SVC(kernel='rbf')\n",
        "train_and_predict_using_model(\"SVM (RBF kernel)\", rbf_svc)"
      ],
      "execution_count": null,
      "outputs": [
        {
          "output_type": "stream",
          "text": [
            "SVM (RBF kernel)\n",
            "================================\n",
            "Training confusion matrix: \n",
            "[[240 162]\n",
            " [133 281]]\n",
            "TrainSet: Accurarcy 63.85%\n",
            "================================\n",
            "[[68 41]\n",
            " [34 62]]\n",
            "Testset: Accurarcy 63.41%\n",
            "================================\n"
          ],
          "name": "stdout"
        }
      ]
    },
    {
      "cell_type": "code",
      "metadata": {
        "id": "ZaHNNSaQiW5B",
        "colab": {
          "base_uri": "https://localhost:8080/"
        },
        "outputId": "156503b3-7144-4693-8d57-255acd001aa4"
      },
      "source": [
        "rbf_svc = svm.SVC(kernel='poly')\n",
        "train_and_predict_using_model(\"SVM (polynomial kernel)\", rbf_svc)"
      ],
      "execution_count": null,
      "outputs": [
        {
          "output_type": "stream",
          "text": [
            "SVM (polynomial kernel)\n",
            "================================\n",
            "Training confusion matrix: \n",
            "[[ 80 322]\n",
            " [ 22 392]]\n",
            "TrainSet: Accurarcy 57.84%\n",
            "================================\n",
            "[[26 83]\n",
            " [ 4 92]]\n",
            "Testset: Accurarcy 57.56%\n",
            "================================\n"
          ],
          "name": "stdout"
        }
      ]
    },
    {
      "cell_type": "code",
      "metadata": {
        "id": "lxKK5-FZjKGN",
        "colab": {
          "base_uri": "https://localhost:8080/"
        },
        "outputId": "c31a2794-44a3-4cc5-a30e-0f54048dca01"
      },
      "source": [
        "rbf_svc = svm.SVC(kernel='sigmoid')\n",
        "train_and_predict_using_model(\"SVM (sigmoid kernel)\", rbf_svc)"
      ],
      "execution_count": null,
      "outputs": [
        {
          "output_type": "stream",
          "text": [
            "SVM (sigmoid kernel)\n",
            "================================\n",
            "Training confusion matrix: \n",
            "[[183 219]\n",
            " [218 196]]\n",
            "TrainSet: Accurarcy 46.45%\n",
            "================================\n",
            "[[51 58]\n",
            " [49 47]]\n",
            "Testset: Accurarcy 47.80%\n",
            "================================\n"
          ],
          "name": "stdout"
        }
      ]
    },
    {
      "cell_type": "code",
      "metadata": {
        "id": "fZ0nBLjcjeo6",
        "colab": {
          "base_uri": "https://localhost:8080/"
        },
        "outputId": "0f2a4791-5c7d-458b-97cf-db13b67fa2dc"
      },
      "source": [
        "# fit the model and get the separating hyperplane using weighted classes\n",
        "wclf = svm.SVC(kernel='linear', class_weight={1:2})\n",
        "train_and_predict_using_model('SVM uneven class weight', wclf)"
      ],
      "execution_count": null,
      "outputs": [
        {
          "output_type": "stream",
          "text": [
            "SVM uneven class weight\n",
            "================================\n",
            "Training confusion matrix: \n",
            "[[  1 401]\n",
            " [  0 414]]\n",
            "TrainSet: Accurarcy 50.86%\n",
            "================================\n",
            "[[  0 109]\n",
            " [  0  96]]\n",
            "Testset: Accurarcy 46.83%\n",
            "================================\n"
          ],
          "name": "stdout"
        }
      ]
    },
    {
      "cell_type": "markdown",
      "metadata": {
        "id": "nKJBjSe0ke7Y"
      },
      "source": [
        "## Naive Bayes"
      ]
    },
    {
      "cell_type": "code",
      "metadata": {
        "id": "8qphxloNj1D9",
        "colab": {
          "base_uri": "https://localhost:8080/"
        },
        "outputId": "34ff7750-8472-4f64-a50a-2c691a491fd3"
      },
      "source": [
        "from sklearn.naive_bayes import GaussianNB\n",
        "\n",
        "# maximum likelihood\n",
        "\n",
        "gnb = GaussianNB()\n",
        "train_and_predict_using_model(\"Naive Bayes\", gnb)"
      ],
      "execution_count": null,
      "outputs": [
        {
          "output_type": "stream",
          "text": [
            "Naive Bayes\n",
            "================================\n",
            "Training confusion matrix: \n",
            "[[  7 395]\n",
            " [  1 413]]\n",
            "TrainSet: Accurarcy 51.47%\n",
            "================================\n",
            "[[  1 108]\n",
            " [  0  96]]\n",
            "Testset: Accurarcy 47.32%\n",
            "================================\n"
          ],
          "name": "stdout"
        }
      ]
    },
    {
      "cell_type": "code",
      "metadata": {
        "id": "URo0PGMilk97"
      },
      "source": [
        ""
      ],
      "execution_count": null,
      "outputs": []
    }
  ]
}
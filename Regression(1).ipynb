{
  "nbformat": 4,
  "nbformat_minor": 0,
  "metadata": {
    "colab": {
      "name": "Regression.ipynb",
      "provenance": [],
      "collapsed_sections": [],
      "toc_visible": true
    },
    "kernelspec": {
      "display_name": "Python 3",
      "language": "python",
      "name": "python3"
    },
    "language_info": {
      "codemirror_mode": {
        "name": "ipython",
        "version": 3
      },
      "file_extension": ".py",
      "mimetype": "text/x-python",
      "name": "python",
      "nbconvert_exporter": "python",
      "pygments_lexer": "ipython3",
      "version": "3.7.6-final"
    }
  },
  "cells": [
    {
      "cell_type": "markdown",
      "metadata": {
        "id": "iGKp7Xts3yLw"
      },
      "source": [
        "# Example code for 5 models"
      ]
    },
    {
      "cell_type": "code",
      "metadata": {
        "id": "Ce1il03S6_Te",
        "tags": [],
        "outputId": "6015faf8-edc8-4bb6-f5ad-f27160fe89ba",
        "colab": {
          "base_uri": "https://localhost:8080/"
        }
      },
      "source": [
        "# Create your first MLP in Keras\n",
        "from keras.models import Sequential\n",
        "from keras.layers import Dense, Dropout\n",
        "from sklearn.metrics import classification_report, confusion_matrix\n",
        "from sklearn.model_selection import train_test_split\n",
        "from sklearn.metrics import mean_squared_error\n",
        "import numpy as np\n",
        "from sklearn import linear_model\n",
        "from sklearn import preprocessing\n",
        "from sklearn import tree\n",
        "from sklearn.ensemble import RandomForestRegressor,GradientBoostingRegressor\n",
        "import pandas as pd\n",
        "import csv\n",
        "\n",
        "Y_position = 5\n",
        "\n",
        "# fix random seed for reproducibility\n",
        "np.random.seed(7)\n",
        "\n",
        "dataset = np.loadtxt(\"Alumni Giving Regression (Edited).csv\", delimiter=\",\" )\n",
        "# split into input (X) and output (Y) variables\n",
        "\n",
        "df = pd.DataFrame(dataset)\n",
        "print(df)\n",
        "\t# summary statistics\n",
        "print(df.describe())\n",
        "\n",
        "corr=df.corr(method ='pearson')\n",
        "print(corr)\n",
        "corr.to_csv('corr.csv')\n",
        "\n",
        "X = dataset[:,0:Y_position]\n",
        "Y = dataset[:,Y_position]\n",
        "# create model\n",
        "X_train, X_test, y_train, y_test = train_test_split(X, Y, test_size=0.20, random_state=2020)\n",
        "\n",
        "\n",
        "#Model 1 : linear regression\n",
        "#https://scikit-learn.org/stable/modules/generated/sklearn.linear_model.LinearRegression.html\n",
        "#class sklearn.linear_model.LinearRegression(*, fit_intercept=True, normalize=False, copy_X=True, n_jobs=None)\n",
        "\n",
        "model1 = linear_model.LinearRegression()\n",
        "model1.fit(X_train, y_train)\n",
        "y_pred_train1 = model1.predict(X_train)\n",
        "print(\"Regression\")\n",
        "print(\"================================\")\n",
        "RMSE_train1 = mean_squared_error(y_train,y_pred_train1)\n",
        "\n",
        "print(\"Regression TrainSet: RMSE {}\".format(RMSE_train1))\n",
        "print(\"================================\")\n",
        "y_pred1 = model1.predict(X_test)\n",
        "RMSE_test1 = mean_squared_error(y_test,y_pred1)\n",
        "print(\"Regression Testset: RMSE {}\".format(RMSE_test1))\n",
        "print(\"================================\")\n",
        "print(\"================================\")\n",
        "print(\"================================\")\n",
        "\n",
        "\n",
        "#Model 2 decision tree\n",
        "#https://scikit-learn.org/stable/modules/generated/sklearn.tree.DecisionTreeRegressor.html\n",
        "\n",
        "\n",
        "model2 = tree.DecisionTreeRegressor()\n",
        "model2.fit(X_train, y_train)\n",
        "print(\"Decision Tree\")\n",
        "print(\"================================\")\n",
        "y_pred_train2 = model2.predict(X_train)\n",
        "RMSE_train2 = mean_squared_error(y_train,y_pred_train2)\n",
        "print(\"Decision Tree TrainSet: RMSE {}\".format(RMSE_train2))\n",
        "print(\"================================\")\n",
        "y_pred_test2 = model2.predict(X_test)\n",
        "RMSE_test2 = mean_squared_error(y_test,y_pred_test2)\n",
        "print(\"Decision Tree TestSet: RMSE {}\".format(RMSE_test2))\n",
        "print(\"================================\")\n",
        "print(\"================================\")\n",
        "print(\"================================\")\n",
        "print(\"================================\")\n",
        "\n",
        "\n",
        "#Model 3 Random Forest\n",
        "#https://scikit-learn.org/stable/modules/generated/sklearn.ensemble.RandomForestRegressor.html\n",
        "#class sklearn.ensemble.RandomForestRegressor(n_estimators=100, *, criterion='mse', max_depth=None, min_samples_split=2, \n",
        "#min_samples_leaf=1, min_weight_fraction_leaf=0.0, max_features='auto', max_leaf_nodes=None, min_impurity_decrease=0.0, \n",
        "#min_impurity_split=None, bootstrap=True, oob_score=False, n_jobs=None, random_state=None, verbose=0, \n",
        "#warm_start=False, ccp_alpha=0.0, max_samples=None)\n",
        "\n",
        "model3 = RandomForestRegressor()\n",
        "model3.fit(X_train, y_train)\n",
        "print(\"Random Forest Regressor\")\n",
        "print(\"================================\")\n",
        "y_pred_train3 = model3.predict(X_train)\n",
        "RMSE_train3 = mean_squared_error(y_train,y_pred_train3)\n",
        "print(\"Random Forest Regressor TrainSet: RMSE {}\".format(RMSE_train3))\n",
        "print(\"================================\")\n",
        "y_pred_test3 = model3.predict(X_test)\n",
        "RMSE_test3 = mean_squared_error(y_test,y_pred_test3)\n",
        "print(\"Random Forest Regressor TestSet: RMSE {}\".format(RMSE_test3))\n",
        "print(\"================================\")\n",
        "print(\"================================\")\n",
        "print(\"================================\")\n",
        "print(\"================================\")\n",
        "\n",
        "\n",
        "#model 4: XgBoost\n",
        "#https://scikit-learn.org/stable/modules/generated/sklearn.ensemble.GradientBoostingRegressor.html\n",
        "#class sklearn.ensemble.GradientBoostingRegressor(*, loss='ls', learning_rate=0.1, n_estimators=100, subsample=1.0, \n",
        "#criterion='friedman_mse', min_samples_split=2, min_samples_leaf=1, min_weight_fraction_leaf=0.0, max_depth=3, \n",
        "#min_impurity_decrease=0.0, min_impurity_split=None, init=None, random_state=None, max_features=None, alpha=0.9, \n",
        "#verbose=0, max_leaf_nodes=None, warm_start=False, presort='deprecated', validation_fraction=0.1, n_iter_no_change=None, \n",
        "#tol=0.0001, ccp_alpha=0.0)\n",
        "\n",
        "model4 = GradientBoostingRegressor()\n",
        "model4.fit(X_train, y_train)\n",
        "print(\"Gradient Boosting Regressor\")\n",
        "print(\"================================\")\n",
        "y_pred_train4 = model4.predict(X_train)\n",
        "RMSE_train4 = mean_squared_error(y_train,y_pred_train4)\n",
        "print(\"Gradient Boosting Regressor TrainSet: RMSE {}\".format(RMSE_train4))\n",
        "print(\"================================\")\n",
        "y_pred_test4 = model4.predict(X_test)\n",
        "RMSE_test4 = mean_squared_error(y_test,y_pred_test4)\n",
        "print(\"Gradient Boosting Regressor TestSet: RMSE {}\".format(RMSE_test4))\n",
        "print(\"================================\")\n",
        "print(\"================================\")\n",
        "print(\"================================\")\n",
        "print(\"================================\")\n",
        "\n",
        "#Model 5: neural network\n",
        "#https://www.tensorflow.org/guide/keras/train_and_evaluate\n",
        "\n",
        "print(\"Neural Network\")\n",
        "print(\"================================\")\n",
        "model = Sequential()\n",
        "model.add(Dense(64, input_dim=Y_position, activation='relu'))\n",
        "model.add(Dense(64, activation='relu'))\n",
        "model.add(Dropout(0.2))\n",
        "model.add(Dense(1, activation='relu'))\n",
        "# Compile mode\n",
        "# https://www.tensorflow.org/guide/keras/train_and_evaluate\n",
        "model.compile(loss='MSE', optimizer='Adamax', metrics=['accuracy'])\n",
        "# Fit the model\n",
        "model.fit(X_train, y_train, epochs=300, batch_size=5, verbose=0)\n",
        "# evaluate the model\n",
        "predictions5 = model.predict(X_train)\n",
        "RMSE_train5 = mean_squared_error(y_train,predictions5)\n",
        "print(\"Neural Network TrainSet: RMSE {}\".format(RMSE_train5))\n",
        "print(\"==================================\")\n",
        "predictions5 = model.predict(X_test)\n",
        "RMSE_test5 = mean_squared_error(y_test,predictions5)\n",
        "print(\"Neural Network TestSet: RMSE {}\".format(RMSE_test5))\n",
        "print(\"================================\")\n",
        "print(\"================================\")\n",
        "print(\"================================\")\n",
        "\n",
        "\n"
      ],
      "execution_count": 36,
      "outputs": [
        {
          "output_type": "stream",
          "text": [
            "        0     1     2     3     4     5\n",
            "0    24.0  0.42  0.16  0.59  0.81  0.08\n",
            "1    19.0  0.49  0.04  0.37  0.69  0.11\n",
            "2    18.0  0.24  0.17  0.66  0.87  0.31\n",
            "3     8.0  0.74  0.00  0.81  0.88  0.11\n",
            "4     8.0  0.95  0.00  0.86  0.92  0.28\n",
            "..    ...   ...   ...   ...   ...   ...\n",
            "118  11.0  0.54  0.03  0.89  0.94  0.29\n",
            "119  15.0  0.37  0.22  0.69  0.83  0.13\n",
            "120  23.0  0.32  0.19  0.59  0.80  0.12\n",
            "121  19.0  0.43  0.06  0.49  0.73  0.13\n",
            "122  19.0  0.36  0.11  0.52  0.74  0.10\n",
            "\n",
            "[123 rows x 6 columns]\n",
            "                0           1           2           3           4           5\n",
            "count  123.000000  123.000000  123.000000  123.000000  123.000000  123.000000\n",
            "mean    17.772358    0.403659    0.136260    0.645203    0.841138    0.141789\n",
            "std      4.517385    0.133897    0.060101    0.169794    0.083942    0.080674\n",
            "min      6.000000    0.140000    0.000000    0.260000    0.580000    0.020000\n",
            "25%     16.000000    0.320000    0.095000    0.505000    0.780000    0.080000\n",
            "50%     18.000000    0.380000    0.130000    0.640000    0.840000    0.130000\n",
            "75%     20.000000    0.460000    0.180000    0.785000    0.910000    0.170000\n",
            "max     31.000000    0.950000    0.310000    0.960000    0.980000    0.410000\n",
            "          0         1         2         3         4         5\n",
            "0  1.000000 -0.691900  0.414978 -0.604574 -0.521985 -0.549244\n",
            "1 -0.691900  1.000000 -0.581516  0.487248  0.376735  0.540427\n",
            "2  0.414978 -0.581516  1.000000  0.017023  0.055766 -0.175102\n",
            "3 -0.604574  0.487248  0.017023  1.000000  0.934396  0.681660\n",
            "4 -0.521985  0.376735  0.055766  0.934396  1.000000  0.647625\n",
            "5 -0.549244  0.540427 -0.175102  0.681660  0.647625  1.000000\n",
            "Regression\n",
            "================================\n",
            "Regression TrainSet: RMSE 0.002761693322289229\n",
            "================================\n",
            "Regression Testset: RMSE 0.004209824026356373\n",
            "================================\n",
            "================================\n",
            "================================\n",
            "Decision Tree\n",
            "================================\n",
            "Decision Tree TrainSet: RMSE 1.4739259778473743e-36\n",
            "================================\n",
            "Decision Tree TestSet: RMSE 0.008496\n",
            "================================\n",
            "================================\n",
            "================================\n",
            "================================\n",
            "Random Forest Regressor\n",
            "================================\n",
            "Random Forest Regressor TrainSet: RMSE 0.0004964972448979589\n",
            "================================\n",
            "Random Forest Regressor TestSet: RMSE 0.004843255999999997\n",
            "================================\n",
            "================================\n",
            "================================\n",
            "================================\n",
            "Gradient Boosting Regressor\n",
            "================================\n",
            "Gradient Boosting Regressor TrainSet: RMSE 0.0002084519053408996\n",
            "================================\n",
            "Gradient Boosting Regressor TestSet: RMSE 0.005189572852028741\n",
            "================================\n",
            "================================\n",
            "================================\n",
            "================================\n",
            "Neural Network\n",
            "================================\n",
            "Neural Network TrainSet: RMSE 0.02496122448979592\n",
            "==================================\n",
            "Neural Network TestSet: RMSE 0.032824\n",
            "================================\n",
            "================================\n",
            "================================\n"
          ],
          "name": "stdout"
        }
      ]
    },
    {
      "cell_type": "markdown",
      "metadata": {
        "id": "q0UrwVpS32O2"
      },
      "source": [
        "## Model helper function\n"
      ]
    },
    {
      "cell_type": "code",
      "metadata": {
        "id": "Z1yxhiEL33Nn"
      },
      "source": [
        "def train_and_predict_using_model(model_name= \"\",model=None):\n",
        "    model.fit(X_train, y_train)\n",
        "    print(model_name)\n",
        "    print(\"================================\")\n",
        "    y_pred_train = model.predict(X_train)\n",
        "    RMSE_train = mean_squared_error(y_train,y_pred_train)\n",
        "    print(\"TrainSet: RMSE {}\".format(RMSE_train))\n",
        "    print(\"================================\")\n",
        "    y_pred_test = model.predict(X_test)\n",
        "    RMSE_test = mean_squared_error(y_test,y_pred_test)\n",
        "    print(\"TestSet: RMSE {}\".format(RMSE_test))\n",
        "    print(\"================================\")"
      ],
      "execution_count": 37,
      "outputs": []
    },
    {
      "cell_type": "code",
      "metadata": {
        "id": "6O0f9sT8reyH",
        "outputId": "2c4990e0-18ba-4ffb-bab8-cb2dfee9b324",
        "colab": {
          "base_uri": "https://localhost:8080/",
          "height": 265
        }
      },
      "source": [
        "import seaborn as sns\n",
        "import pandas as pd\n",
        "boxplot = pd.DataFrame(dataset).boxplot()"
      ],
      "execution_count": 38,
      "outputs": [
        {
          "output_type": "display_data",
          "data": {
            "image/png": "[encoded data removed]",
            "text/plain": [
              "<Figure size 432x288 with 1 Axes>"
            ]
          },
          "metadata": {
            "tags": [],
            "needs_background": "light"
          }
        }
      ]
    },
    {
      "cell_type": "markdown",
      "metadata": {
        "id": "8vhpLF19s2B7"
      },
      "source": [
        "## Remove outlier"
      ]
    },
    {
      "cell_type": "code",
      "metadata": {
        "id": "JVIsXtKKs1ZS",
        "outputId": "6bacda8d-c170-4255-a5b2-c677c1328be3",
        "colab": {
          "base_uri": "https://localhost:8080/"
        }
      },
      "source": [
        "df = pd.DataFrame(dataset)\n",
        "quantile = df[0].quantile(0.99)\n",
        "df1 = df[df[0] < quantile]\n",
        "df.shape"
      ],
      "execution_count": 39,
      "outputs": [
        {
          "output_type": "execute_result",
          "data": {
            "text/plain": [
              "(123, 6)"
            ]
          },
          "metadata": {
            "tags": []
          },
          "execution_count": 39
        }
      ]
    },
    {
      "cell_type": "code",
      "metadata": {
        "id": "N3vtmmtfsqRH",
        "outputId": "a6bbcd04-d956-4483-f4ca-847013139690",
        "colab": {
          "base_uri": "https://localhost:8080/"
        }
      },
      "source": [
        "df1.shape"
      ],
      "execution_count": 40,
      "outputs": [
        {
          "output_type": "execute_result",
          "data": {
            "text/plain": [
              "(120, 6)"
            ]
          },
          "metadata": {
            "tags": []
          },
          "execution_count": 40
        }
      ]
    },
    {
      "cell_type": "markdown",
      "metadata": {
        "id": "RPRweq_stQEL"
      },
      "source": [
        "## Remove NA"
      ]
    },
    {
      "cell_type": "code",
      "metadata": {
        "id": "kaaAW0ROtPTr"
      },
      "source": [
        "df1 = df1.dropna()"
      ],
      "execution_count": 41,
      "outputs": []
    },
    {
      "cell_type": "markdown",
      "metadata": {
        "id": "a8udZRBY9i4s"
      },
      "source": [
        "## Feature importance\n",
        "\n",
        "### Feature importances with forests of trees"
      ]
    },
    {
      "cell_type": "code",
      "metadata": {
        "tags": [],
        "id": "QkmdTElF9i4t",
        "outputId": "9f365919-dc38-480f-e394-51ae8b597dac",
        "colab": {
          "base_uri": "https://localhost:8080/"
        }
      },
      "source": [
        "import numpy\n",
        "RF = model3\n",
        "importances = RF.feature_importances_\n",
        "std = numpy.std([tree.feature_importances_ for tree in RF.estimators_],axis=0)\n",
        "indices = numpy.argsort(importances)[::-1]\n",
        "\n",
        "# Print the feature ranking\n",
        "print(\"Feature ranking:\")\n",
        "\n",
        "for f in range(X.shape[1]):\n",
        "    print(\"%d. feature (Column index) %s (%f)\" % (f + 1, indices[f], importances[indices[f]]))"
      ],
      "execution_count": 42,
      "outputs": [
        {
          "output_type": "stream",
          "text": [
            "Feature ranking:\n",
            "1. feature (Column index) 3 (0.346682)\n",
            "2. feature (Column index) 1 (0.217437)\n",
            "3. feature (Column index) 0 (0.174081)\n",
            "4. feature (Column index) 4 (0.172636)\n",
            "5. feature (Column index) 2 (0.089163)\n"
          ],
          "name": "stdout"
        }
      ]
    },
    {
      "cell_type": "markdown",
      "metadata": {
        "id": "VJGhqh_NoduC"
      },
      "source": [
        "## Use top 3 features\n"
      ]
    },
    {
      "cell_type": "code",
      "metadata": {
        "id": "-endkyzZoVsY",
        "outputId": "f5104f9c-4234-431b-8744-69214b0db74b",
        "colab": {
          "base_uri": "https://localhost:8080/"
        }
      },
      "source": [
        "indices_top3 = indices[:3]\n",
        "print(indices_top3)\n",
        "\n",
        "df = pd.DataFrame(dataset)\n",
        "\n",
        "Y_position = 5\n",
        "TOP_N_FEATURE = 3\n",
        "\n",
        "X = dataset[:,indices_top3]\n",
        "Y = dataset[:,Y_position]\n",
        "# create model\n",
        "X_train, X_test, y_train, y_test = train_test_split(X, Y, test_size=0.20, random_state=2020)\n",
        "\n",
        "#Model 1 : linear regression\n",
        "#https://scikit-learn.org/stable/modules/generated/sklearn.linear_model.LinearRegression.html\n",
        "#class sklearn.linear_model.LinearRegression(*, fit_intercept=True, normalize=False, copy_X=True, n_jobs=None)\n",
        "\n",
        "model1 = linear_model.LinearRegression()\n",
        "model1.fit(X_train, y_train)\n",
        "y_pred_train1 = model1.predict(X_train)\n",
        "print(\"Regression\")\n",
        "print(\"================================\")\n",
        "RMSE_train1 = mean_squared_error(y_train,y_pred_train1)\n",
        "\n",
        "print(\"Regression TrainSet: RMSE {}\".format(RMSE_train1))\n",
        "print(\"================================\")\n",
        "y_pred1 = model1.predict(X_test)\n",
        "RMSE_test1 = mean_squared_error(y_test,y_pred1)\n",
        "print(\"Regression Testset: RMSE {}\".format(RMSE_test1))\n",
        "print(\"================================\")\n",
        "print(\"================================\")\n",
        "print(\"================================\")\n",
        "\n",
        "\n",
        "#Model 2 decision tree\n",
        "#https://scikit-learn.org/stable/modules/generated/sklearn.tree.DecisionTreeRegressor.html\n",
        "\n",
        "\n",
        "model2 = tree.DecisionTreeRegressor()\n",
        "model2.fit(X_train, y_train)\n",
        "print(\"Decision Tree\")\n",
        "print(\"================================\")\n",
        "y_pred_train2 = model2.predict(X_train)\n",
        "RMSE_train2 = mean_squared_error(y_train,y_pred_train2)\n",
        "print(\"Decision Tree TrainSet: RMSE {}\".format(RMSE_train2))\n",
        "print(\"================================\")\n",
        "y_pred_test2 = model2.predict(X_test)\n",
        "RMSE_test2 = mean_squared_error(y_test,y_pred_test2)\n",
        "print(\"Decision Tree TestSet: RMSE {}\".format(RMSE_test2))\n",
        "print(\"================================\")\n",
        "print(\"================================\")\n",
        "print(\"================================\")\n",
        "print(\"================================\")\n",
        "\n",
        "\n",
        "#Model 3 Random Forest\n",
        "#https://scikit-learn.org/stable/modules/generated/sklearn.ensemble.RandomForestRegressor.html\n",
        "#class sklearn.ensemble.RandomForestRegressor(n_estimators=100, *, criterion='mse', max_depth=None, min_samples_split=2, \n",
        "#min_samples_leaf=1, min_weight_fraction_leaf=0.0, max_features='auto', max_leaf_nodes=None, min_impurity_decrease=0.0, \n",
        "#min_impurity_split=None, bootstrap=True, oob_score=False, n_jobs=None, random_state=None, verbose=0, \n",
        "#warm_start=False, ccp_alpha=0.0, max_samples=None)\n",
        "\n",
        "model3 = RandomForestRegressor()\n",
        "model3.fit(X_train, y_train)\n",
        "print(\"Random Forest Regressor\")\n",
        "print(\"================================\")\n",
        "y_pred_train3 = model3.predict(X_train)\n",
        "RMSE_train3 = mean_squared_error(y_train,y_pred_train3)\n",
        "print(\"Random Forest Regressor TrainSet: RMSE {}\".format(RMSE_train3))\n",
        "print(\"================================\")\n",
        "y_pred_test3 = model3.predict(X_test)\n",
        "RMSE_test3 = mean_squared_error(y_test,y_pred_test3)\n",
        "print(\"Random Forest Regressor TestSet: RMSE {}\".format(RMSE_test3))\n",
        "print(\"================================\")\n",
        "print(\"================================\")\n",
        "print(\"================================\")\n",
        "print(\"================================\")\n",
        "\n",
        "\n",
        "#model 4: XgBoost\n",
        "#https://scikit-learn.org/stable/modules/generated/sklearn.ensemble.GradientBoostingRegressor.html\n",
        "#class sklearn.ensemble.GradientBoostingRegressor(*, loss='ls', learning_rate=0.1, n_estimators=100, subsample=1.0, \n",
        "#criterion='friedman_mse', min_samples_split=2, min_samples_leaf=1, min_weight_fraction_leaf=0.0, max_depth=3, \n",
        "#min_impurity_decrease=0.0, min_impurity_split=None, init=None, random_state=None, max_features=None, alpha=0.9, \n",
        "#verbose=0, max_leaf_nodes=None, warm_start=False, presort='deprecated', validation_fraction=0.1, n_iter_no_change=None, \n",
        "#tol=0.0001, ccp_alpha=0.0)\n",
        "\n",
        "model4 = GradientBoostingRegressor()\n",
        "model4.fit(X_train, y_train)\n",
        "print(\"Gradient Boosting Regressor\")\n",
        "print(\"================================\")\n",
        "y_pred_train4 = model4.predict(X_train)\n",
        "RMSE_train4 = mean_squared_error(y_train,y_pred_train4)\n",
        "print(\"Gradient Boosting Regressor TrainSet: RMSE {}\".format(RMSE_train4))\n",
        "print(\"================================\")\n",
        "y_pred_test4 = model4.predict(X_test)\n",
        "RMSE_test4 = mean_squared_error(y_test,y_pred_test4)\n",
        "print(\"Gradient Boosting Regressor TestSet: RMSE {}\".format(RMSE_test4))\n",
        "print(\"================================\")\n",
        "print(\"================================\")\n",
        "print(\"================================\")\n",
        "print(\"================================\")\n",
        "\n",
        "#Model 5: neural network\n",
        "#https://www.tensorflow.org/guide/keras/train_and_evaluate\n",
        "\n",
        "print(\"Neural Network\")\n",
        "print(\"================================\")\n",
        "model = Sequential()\n",
        "model.add(Dense(64, input_dim=TOP_N_FEATURE, activation='relu'))\n",
        "model.add(Dense(64, activation='relu'))\n",
        "model.add(Dropout(0.2))\n",
        "model.add(Dense(1, activation='relu'))\n",
        "# Compile mode\n",
        "# https://www.tensorflow.org/guide/keras/train_and_evaluate\n",
        "model.compile(loss='MSE', optimizer='Adamax', metrics=['accuracy'])\n",
        "# Fit the model\n",
        "model.fit(X_train, y_train, epochs=300, batch_size=5, verbose=0)\n",
        "# evaluate the model\n",
        "predictions5 = model.predict(X_train)\n",
        "RMSE_train5 = mean_squared_error(y_train,predictions5)\n",
        "print(\"Neural Network TrainSet: RMSE {}\".format(RMSE_train5))\n",
        "print(\"==================================\")\n",
        "predictions5 = model.predict(X_test)\n",
        "RMSE_test5 = mean_squared_error(y_test,predictions5)\n",
        "print(\"Neural Network TestSet: RMSE {}\".format(RMSE_test5))\n",
        "print(\"================================\")\n",
        "print(\"================================\")\n",
        "print(\"================================\")"
      ],
      "execution_count": 43,
      "outputs": [
        {
          "output_type": "stream",
          "text": [
            "[3 1 0]\n",
            "Regression\n",
            "================================\n",
            "Regression TrainSet: RMSE 0.0027952079052752685\n",
            "================================\n",
            "Regression Testset: RMSE 0.00434175802813964\n",
            "================================\n",
            "================================\n",
            "================================\n",
            "Decision Tree\n",
            "================================\n",
            "Decision Tree TrainSet: RMSE 0.0\n",
            "================================\n",
            "Decision Tree TestSet: RMSE 0.0075239999999999994\n",
            "================================\n",
            "================================\n",
            "================================\n",
            "================================\n",
            "Random Forest Regressor\n",
            "================================\n",
            "Random Forest Regressor TrainSet: RMSE 0.0004767974489795915\n",
            "================================\n",
            "Random Forest Regressor TestSet: RMSE 0.005291914\n",
            "================================\n",
            "================================\n",
            "================================\n",
            "================================\n",
            "Gradient Boosting Regressor\n",
            "================================\n",
            "Gradient Boosting Regressor TrainSet: RMSE 0.0003038484585159878\n",
            "================================\n",
            "Gradient Boosting Regressor TestSet: RMSE 0.00551448430334344\n",
            "================================\n",
            "================================\n",
            "================================\n",
            "================================\n",
            "Neural Network\n",
            "================================\n",
            "Neural Network TrainSet: RMSE 0.02496122448979592\n",
            "==================================\n",
            "Neural Network TestSet: RMSE 0.032824\n",
            "================================\n",
            "================================\n",
            "================================\n"
          ],
          "name": "stdout"
        }
      ]
    },
    {
      "cell_type": "markdown",
      "metadata": {
        "id": "964bfFLA4bEg"
      },
      "source": [
        "# Other models and how to configure|"
      ]
    },
    {
      "cell_type": "markdown",
      "metadata": {
        "id": "TfDqeMpO4deL"
      },
      "source": [
        "### Ridge\n",
        "\n",
        "- alpla\n",
        "    - Larger values specify stronger regularization. "
      ]
    },
    {
      "cell_type": "code",
      "metadata": {
        "id": "3uphVVxrasaT",
        "outputId": "cc14c643-f2cb-4121-d466-44809c484189",
        "colab": {
          "base_uri": "https://localhost:8080/"
        }
      },
      "source": [
        "from sklearn.linear_model import Ridge\n",
        "clf = Ridge(alpha=1.0)\n",
        "train_and_predict_using_model('Ridge',clf)"
      ],
      "execution_count": 44,
      "outputs": [
        {
          "output_type": "stream",
          "text": [
            "Ridge\n",
            "================================\n",
            "TrainSet: RMSE 0.002975496177792466\n",
            "================================\n",
            "TestSet: RMSE 0.004543969704506036\n",
            "================================\n"
          ],
          "name": "stdout"
        }
      ]
    },
    {
      "cell_type": "code",
      "metadata": {
        "id": "SEIP6Nn45tNj",
        "outputId": "19e8a46e-0958-4a14-ec4b-0bc9e03c0fab",
        "colab": {
          "base_uri": "https://localhost:8080/"
        }
      },
      "source": [
        "clf.coef_"
      ],
      "execution_count": 45,
      "outputs": [
        {
          "output_type": "execute_result",
          "data": {
            "text/plain": [
              "array([ 0.16013109,  0.08400627, -0.00431646])"
            ]
          },
          "metadata": {
            "tags": []
          },
          "execution_count": 45
        }
      ]
    },
    {
      "cell_type": "code",
      "metadata": {
        "id": "-Bu6D8z-5WEe",
        "outputId": "d8cb1f53-63ee-49c1-8022-35e006dbe6ce",
        "colab": {
          "base_uri": "https://localhost:8080/"
        }
      },
      "source": [
        "from sklearn.linear_model import Ridge\n",
        "clf = Ridge(alpha=0.0001)\n",
        "train_and_predict_using_model('Ridge',clf)"
      ],
      "execution_count": 46,
      "outputs": [
        {
          "output_type": "stream",
          "text": [
            "Ridge\n",
            "================================\n",
            "TrainSet: RMSE 0.0027952079100891317\n",
            "================================\n",
            "TestSet: RMSE 0.004341765763126526\n",
            "================================\n"
          ],
          "name": "stdout"
        }
      ]
    },
    {
      "cell_type": "code",
      "metadata": {
        "id": "A6BPNTzQ5nvo",
        "outputId": "fd41727f-02f0-421a-d271-c5752d49a666",
        "colab": {
          "base_uri": "https://localhost:8080/"
        }
      },
      "source": [
        "clf.coef_"
      ],
      "execution_count": 47,
      "outputs": [
        {
          "output_type": "execute_result",
          "data": {
            "text/plain": [
              "array([ 0.2305282 ,  0.16026612, -0.00115048])"
            ]
          },
          "metadata": {
            "tags": []
          },
          "execution_count": 47
        }
      ]
    },
    {
      "cell_type": "code",
      "metadata": {
        "id": "30M-W3tR5sMZ",
        "outputId": "3cde1d71-f9f5-4740-b7d4-98c5cba10495",
        "colab": {
          "base_uri": "https://localhost:8080/"
        }
      },
      "source": [
        "print(\"First model has stronger regularization effect -- weights driven to 0\")"
      ],
      "execution_count": 48,
      "outputs": [
        {
          "output_type": "stream",
          "text": [
            "First model has stronger regularization effect -- weights driven to 0\n"
          ],
          "name": "stdout"
        }
      ]
    },
    {
      "cell_type": "markdown",
      "metadata": {
        "id": "hB8GqlE06A_w"
      },
      "source": [
        "## Lasso\n",
        "- alpla\n",
        "    - Larger values specify stronger regularization. "
      ]
    },
    {
      "cell_type": "code",
      "metadata": {
        "id": "bt-N8jiE59m0",
        "outputId": "dbd33027-3ab7-4b6e-8773-0c332fadae04",
        "colab": {
          "base_uri": "https://localhost:8080/"
        }
      },
      "source": [
        "from sklearn import linear_model\n",
        "clf = linear_model.Lasso(alpha=0.1)\n",
        "train_and_predict_using_model('Ridge',clf)"
      ],
      "execution_count": 49,
      "outputs": [
        {
          "output_type": "stream",
          "text": [
            "Ridge\n",
            "================================\n",
            "TrainSet: RMSE 0.004765559626087362\n",
            "================================\n",
            "TestSet: RMSE 0.00600596003981286\n",
            "================================\n"
          ],
          "name": "stdout"
        }
      ]
    },
    {
      "cell_type": "code",
      "metadata": {
        "id": "pkzdo1GB6PAe",
        "outputId": "35cff1ae-3b3a-420a-ffc0-2f71a59a8cc6",
        "colab": {
          "base_uri": "https://localhost:8080/"
        }
      },
      "source": [
        "clf.coef_"
      ],
      "execution_count": 50,
      "outputs": [
        {
          "output_type": "execute_result",
          "data": {
            "text/plain": [
              "array([ 0.        ,  0.        , -0.00491704])"
            ]
          },
          "metadata": {
            "tags": []
          },
          "execution_count": 50
        }
      ]
    },
    {
      "cell_type": "code",
      "metadata": {
        "id": "-UbRmoOh6Rze",
        "outputId": "a4b54e2d-847f-4974-9f3f-25c1a437e8b2",
        "colab": {
          "base_uri": "https://localhost:8080/"
        }
      },
      "source": [
        "from sklearn import linear_model\n",
        "clf = linear_model.Lasso(alpha=0.0001)\n",
        "train_and_predict_using_model('Lasso',clf)"
      ],
      "execution_count": 52,
      "outputs": [
        {
          "output_type": "stream",
          "text": [
            "Ridge\n",
            "================================\n",
            "TrainSet: RMSE 0.0027965373174448287\n",
            "================================\n",
            "TestSet: RMSE 0.004339222279430154\n",
            "================================\n"
          ],
          "name": "stdout"
        }
      ]
    },
    {
      "cell_type": "code",
      "metadata": {
        "id": "6m63LZcr6Uny",
        "outputId": "c7700923-f71d-448c-f6ab-5fe174dc2849",
        "colab": {
          "base_uri": "https://localhost:8080/"
        }
      },
      "source": [
        "clf.coef_"
      ],
      "execution_count": 53,
      "outputs": [
        {
          "output_type": "execute_result",
          "data": {
            "text/plain": [
              "array([ 0.22702558,  0.15021319, -0.00143782])"
            ]
          },
          "metadata": {
            "tags": []
          },
          "execution_count": 53
        }
      ]
    },
    {
      "cell_type": "code",
      "metadata": {
        "id": "9gWoc9rA6WJ2",
        "outputId": "693f0acd-48a9-4088-a00c-1a487aa21b6d",
        "colab": {
          "base_uri": "https://localhost:8080/"
        }
      },
      "source": [
        "print(\"First model has stronger regularization effect -- weights driven to 0\")"
      ],
      "execution_count": 54,
      "outputs": [
        {
          "output_type": "stream",
          "text": [
            "First model has stronger regularization effect -- weights driven to 0\n"
          ],
          "name": "stdout"
        }
      ]
    },
    {
      "cell_type": "markdown",
      "metadata": {
        "id": "vKJjHsxS7SAl"
      },
      "source": [
        "## Polynomial regression\n",
        "\n",
        "- Param:\n",
        "    - degree (if 2 means X1*X2, if 3 means X1*X2*X3)\n",
        "    - interaction_only (if false, then can do square....) Refer to https://scikit-learn.org/stable/modules/generated/sklearn.preprocessing.PolynomialFeatures.html"
      ]
    },
    {
      "cell_type": "code",
      "metadata": {
        "id": "krHlIMMH6bF3",
        "outputId": "466a5f9f-a840-4900-b0cd-4a9927c53bd2",
        "colab": {
          "base_uri": "https://localhost:8080/"
        }
      },
      "source": [
        "from sklearn.preprocessing import PolynomialFeatures\n",
        "\n",
        "X_poly_example = np.array([[1, 0], [2, 0], [3, 2], [4, 2]])\n",
        "X_poly_example"
      ],
      "execution_count": 63,
      "outputs": [
        {
          "output_type": "execute_result",
          "data": {
            "text/plain": [
              "array([[1, 0],\n",
              "       [2, 0],\n",
              "       [3, 2],\n",
              "       [4, 2]])"
            ]
          },
          "metadata": {
            "tags": []
          },
          "execution_count": 63
        }
      ]
    },
    {
      "cell_type": "code",
      "metadata": {
        "id": "1xLoaVYB7ma5"
      },
      "source": [
        "X_poly_example = PolynomialFeatures(interaction_only=True).fit_transform(X_poly_example).astype(int)"
      ],
      "execution_count": 56,
      "outputs": []
    },
    {
      "cell_type": "code",
      "metadata": {
        "id": "VG4J-el87nFx",
        "outputId": "1b88e6bd-ff5f-4e5a-a695-0cdb194ed2a4",
        "colab": {
          "base_uri": "https://localhost:8080/"
        }
      },
      "source": [
        "print(X_poly_example)\n",
        "print(\"First column is intercept which is default 1\")\n",
        "print(\"Last column is interaction ie (3*2=6 and 4*2=8)\")"
      ],
      "execution_count": 57,
      "outputs": [
        {
          "output_type": "stream",
          "text": [
            "[[1 1 0 0]\n",
            " [1 2 0 0]\n",
            " [1 3 2 6]\n",
            " [1 4 2 8]]\n",
            "First column is intercept which is default 1\n",
            "Last column is interaction ie (3*2=6 and 4*2=8)\n"
          ],
          "name": "stdout"
        }
      ]
    },
    {
      "cell_type": "code",
      "metadata": {
        "id": "ylQ5qNI37oG5",
        "outputId": "f569bd32-1d51-40c5-beee-3b83ecfceb31",
        "colab": {
          "base_uri": "https://localhost:8080/",
          "height": 350
        }
      },
      "source": [
        "poly = PolynomialFeatures(interaction_only=True).fit(X_train)\n",
        "X_train = poly.transform(X_train)\n",
        "print(np.array.size(X_train))\n",
        "clf.fit(X_train, y_train)\n",
        "y_pred_train = clf.predict(X_train)\n",
        "RMSE_train = mean_squared_error(y_train,y_pred_train)\n",
        "print(\"TrainSet: RMSE {}\".format(RMSE_train))\n",
        "\n",
        "X_test = poly.transform(X_test)\n",
        "y_pred1 = clf.predict(X_test)\n",
        "RMSE_test = mean_squared_error(y_test,y_pred1)\n",
        "print(\"TestSet: RMSE {}\".format(RMSE_test))"
      ],
      "execution_count": 64,
      "outputs": [
        {
          "output_type": "error",
          "ename": "KeyboardInterrupt",
          "evalue": "ignored",
          "traceback": [
            "\u001b[0;31m---------------------------------------------------------------------------\u001b[0m",
            "\u001b[0;31mKeyboardInterrupt\u001b[0m                         Traceback (most recent call last)",
            "\u001b[0;32m<ipython-input-64-0511d29cdef4>\u001b[0m in \u001b[0;36m<module>\u001b[0;34m()\u001b[0m\n\u001b[1;32m      1\u001b[0m \u001b[0mpoly\u001b[0m \u001b[0;34m=\u001b[0m \u001b[0mPolynomialFeatures\u001b[0m\u001b[0;34m(\u001b[0m\u001b[0minteraction_only\u001b[0m\u001b[0;34m=\u001b[0m\u001b[0;32mTrue\u001b[0m\u001b[0;34m)\u001b[0m\u001b[0;34m.\u001b[0m\u001b[0mfit\u001b[0m\u001b[0;34m(\u001b[0m\u001b[0mX_train\u001b[0m\u001b[0;34m)\u001b[0m\u001b[0;34m\u001b[0m\u001b[0;34m\u001b[0m\u001b[0m\n\u001b[0;32m----> 2\u001b[0;31m \u001b[0mX_train\u001b[0m \u001b[0;34m=\u001b[0m \u001b[0mpoly\u001b[0m\u001b[0;34m.\u001b[0m\u001b[0mtransform\u001b[0m\u001b[0;34m(\u001b[0m\u001b[0mX_train\u001b[0m\u001b[0;34m)\u001b[0m\u001b[0;34m\u001b[0m\u001b[0;34m\u001b[0m\u001b[0m\n\u001b[0m\u001b[1;32m      3\u001b[0m \u001b[0mprint\u001b[0m\u001b[0;34m(\u001b[0m\u001b[0mnp\u001b[0m\u001b[0;34m.\u001b[0m\u001b[0marray\u001b[0m\u001b[0;34m.\u001b[0m\u001b[0msize\u001b[0m\u001b[0;34m(\u001b[0m\u001b[0mX_train\u001b[0m\u001b[0;34m)\u001b[0m\u001b[0;34m)\u001b[0m\u001b[0;34m\u001b[0m\u001b[0;34m\u001b[0m\u001b[0m\n\u001b[1;32m      4\u001b[0m \u001b[0mclf\u001b[0m\u001b[0;34m.\u001b[0m\u001b[0mfit\u001b[0m\u001b[0;34m(\u001b[0m\u001b[0mX_train\u001b[0m\u001b[0;34m,\u001b[0m \u001b[0my_train\u001b[0m\u001b[0;34m)\u001b[0m\u001b[0;34m\u001b[0m\u001b[0;34m\u001b[0m\u001b[0m\n\u001b[1;32m      5\u001b[0m \u001b[0my_pred_train\u001b[0m \u001b[0;34m=\u001b[0m \u001b[0mclf\u001b[0m\u001b[0;34m.\u001b[0m\u001b[0mpredict\u001b[0m\u001b[0;34m(\u001b[0m\u001b[0mX_train\u001b[0m\u001b[0;34m)\u001b[0m\u001b[0;34m\u001b[0m\u001b[0;34m\u001b[0m\u001b[0m\n",
            "\u001b[0;32m/usr/local/lib/python3.6/dist-packages/sklearn/preprocessing/_data.py\u001b[0m in \u001b[0;36mtransform\u001b[0;34m(self, X)\u001b[0m\n\u001b[1;32m   1633\u001b[0m                                     \u001b[0mX\u001b[0m\u001b[0;34m[\u001b[0m\u001b[0;34m:\u001b[0m\u001b[0;34m,\u001b[0m \u001b[0mfeature_idx\u001b[0m\u001b[0;34m:\u001b[0m\u001b[0mfeature_idx\u001b[0m \u001b[0;34m+\u001b[0m \u001b[0;36m1\u001b[0m\u001b[0;34m]\u001b[0m\u001b[0;34m,\u001b[0m\u001b[0;34m\u001b[0m\u001b[0;34m\u001b[0m\u001b[0m\n\u001b[1;32m   1634\u001b[0m                                     \u001b[0mout\u001b[0m\u001b[0;34m=\u001b[0m\u001b[0mXP\u001b[0m\u001b[0;34m[\u001b[0m\u001b[0;34m:\u001b[0m\u001b[0;34m,\u001b[0m \u001b[0mcurrent_col\u001b[0m\u001b[0;34m:\u001b[0m\u001b[0mnext_col\u001b[0m\u001b[0;34m]\u001b[0m\u001b[0;34m,\u001b[0m\u001b[0;34m\u001b[0m\u001b[0;34m\u001b[0m\u001b[0m\n\u001b[0;32m-> 1635\u001b[0;31m                                     casting='no')\n\u001b[0m\u001b[1;32m   1636\u001b[0m                         \u001b[0mcurrent_col\u001b[0m \u001b[0;34m=\u001b[0m \u001b[0mnext_col\u001b[0m\u001b[0;34m\u001b[0m\u001b[0;34m\u001b[0m\u001b[0m\n\u001b[1;32m   1637\u001b[0m \u001b[0;34m\u001b[0m\u001b[0m\n",
            "\u001b[0;31mKeyboardInterrupt\u001b[0m: "
          ]
        }
      ]
    },
    {
      "cell_type": "code",
      "metadata": {
        "id": "g0O1HTQL9hPS"
      },
      "source": [
        ""
      ],
      "execution_count": null,
      "outputs": []
    }
  ]
}
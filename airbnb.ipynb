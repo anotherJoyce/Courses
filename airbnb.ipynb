{
 "cells": [
  {
   "cell_type": "code",
   "execution_count": 26,
   "metadata": {},
   "outputs": [],
   "source": [
    "import pandas as pd\n",
    "import seaborn as sns\n",
    "# df=pd.read_csv(\"employee.csv\")\n",
    "df=pd.read_csv(\"airbnb_clean1.csv\",encoding='latin1')"
   ]
  },
  {
   "cell_type": "code",
   "execution_count": 12,
   "metadata": {},
   "outputs": [
    {
     "data": {
      "text/html": [
       "<div>\n",
       "<style scoped>\n",
       "    .dataframe tbody tr th:only-of-type {\n",
       "        vertical-align: middle;\n",
       "    }\n",
       "\n",
       "    .dataframe tbody tr th {\n",
       "        vertical-align: top;\n",
       "    }\n",
       "\n",
       "    .dataframe thead th {\n",
       "        text-align: right;\n",
       "    }\n",
       "</style>\n",
       "<table border=\"1\" class=\"dataframe\">\n",
       "  <thead>\n",
       "    <tr style=\"text-align: right;\">\n",
       "      <th></th>\n",
       "      <th>id</th>\n",
       "      <th>name</th>\n",
       "      <th>host_id</th>\n",
       "      <th>host_name</th>\n",
       "      <th>neighbour_hood_info</th>\n",
       "      <th>latitude</th>\n",
       "      <th>longitude</th>\n",
       "      <th>room_type</th>\n",
       "      <th>price</th>\n",
       "      <th>minimum_nights</th>\n",
       "      <th>number_of_reviews</th>\n",
       "      <th>last_review</th>\n",
       "      <th>reviews_per_month</th>\n",
       "      <th>calculated_host_listings_count</th>\n",
       "      <th>availability_365</th>\n",
       "    </tr>\n",
       "  </thead>\n",
       "  <tbody>\n",
       "    <tr>\n",
       "      <th>0</th>\n",
       "      <td>179670</td>\n",
       "      <td>High-end doorman bldg in the LES</td>\n",
       "      <td>21475</td>\n",
       "      <td>Milan</td>\n",
       "      <td>Manhattan,Lower East Side</td>\n",
       "      <td>40.72019</td>\n",
       "      <td>-73.98217</td>\n",
       "      <td>Private room</td>\n",
       "      <td>120</td>\n",
       "      <td>2</td>\n",
       "      <td>99</td>\n",
       "      <td>2019/6/27</td>\n",
       "      <td>1.04</td>\n",
       "      <td>1</td>\n",
       "      <td>345</td>\n",
       "    </tr>\n",
       "    <tr>\n",
       "      <th>1</th>\n",
       "      <td>179741</td>\n",
       "      <td>Spring &amp; Mulberry 2 Bedroom Apartment</td>\n",
       "      <td>314941</td>\n",
       "      <td>Tony</td>\n",
       "      <td>Manhattan,Nolita</td>\n",
       "      <td>40.72133</td>\n",
       "      <td>-73.99666</td>\n",
       "      <td>Entire home/apt</td>\n",
       "      <td>300</td>\n",
       "      <td>1</td>\n",
       "      <td>6</td>\n",
       "      <td>2019/6/28</td>\n",
       "      <td>0.06</td>\n",
       "      <td>3</td>\n",
       "      <td>115</td>\n",
       "    </tr>\n",
       "    <tr>\n",
       "      <th>2</th>\n",
       "      <td>180507</td>\n",
       "      <td>Ultra Modern NYC Garden Apartment</td>\n",
       "      <td>864735</td>\n",
       "      <td>Jason</td>\n",
       "      <td>Queens,Astoria</td>\n",
       "      <td>40.75744</td>\n",
       "      <td>-73.92163</td>\n",
       "      <td>Entire home/apt</td>\n",
       "      <td>107</td>\n",
       "      <td>30</td>\n",
       "      <td>21</td>\n",
       "      <td>2018/12/1</td>\n",
       "      <td>0.22</td>\n",
       "      <td>8</td>\n",
       "      <td>200</td>\n",
       "    </tr>\n",
       "    <tr>\n",
       "      <th>3</th>\n",
       "      <td>180792</td>\n",
       "      <td>Modern Garden Apartment in NYC</td>\n",
       "      <td>864735</td>\n",
       "      <td>Jason</td>\n",
       "      <td>Queens,Astoria</td>\n",
       "      <td>40.75695</td>\n",
       "      <td>-73.92020</td>\n",
       "      <td>Entire home/apt</td>\n",
       "      <td>95</td>\n",
       "      <td>30</td>\n",
       "      <td>24</td>\n",
       "      <td>2019/4/4</td>\n",
       "      <td>0.26</td>\n",
       "      <td>8</td>\n",
       "      <td>271</td>\n",
       "    </tr>\n",
       "    <tr>\n",
       "      <th>4</th>\n",
       "      <td>181972</td>\n",
       "      <td>Gorgeous Entire Manhattan Townhouse</td>\n",
       "      <td>872121</td>\n",
       "      <td>Rosario</td>\n",
       "      <td>Manhattan,Harlem</td>\n",
       "      <td>40.82960</td>\n",
       "      <td>-73.94651</td>\n",
       "      <td>Entire home/apt</td>\n",
       "      <td>199</td>\n",
       "      <td>2</td>\n",
       "      <td>111</td>\n",
       "      <td>2019/6/2</td>\n",
       "      <td>1.17</td>\n",
       "      <td>1</td>\n",
       "      <td>12</td>\n",
       "    </tr>\n",
       "  </tbody>\n",
       "</table>\n",
       "</div>"
      ],
      "text/plain": [
       "       id                                   name  host_id host_name  \\\n",
       "0  179670       High-end doorman bldg in the LES    21475     Milan   \n",
       "1  179741  Spring & Mulberry 2 Bedroom Apartment   314941      Tony   \n",
       "2  180507      Ultra Modern NYC Garden Apartment   864735     Jason   \n",
       "3  180792         Modern Garden Apartment in NYC   864735     Jason   \n",
       "4  181972    Gorgeous Entire Manhattan Townhouse   872121   Rosario   \n",
       "\n",
       "         neighbour_hood_info  latitude  longitude        room_type  price  \\\n",
       "0  Manhattan,Lower East Side  40.72019  -73.98217     Private room    120   \n",
       "1           Manhattan,Nolita  40.72133  -73.99666  Entire home/apt    300   \n",
       "2             Queens,Astoria  40.75744  -73.92163  Entire home/apt    107   \n",
       "3             Queens,Astoria  40.75695  -73.92020  Entire home/apt     95   \n",
       "4           Manhattan,Harlem  40.82960  -73.94651  Entire home/apt    199   \n",
       "\n",
       "   minimum_nights  number_of_reviews last_review  reviews_per_month  \\\n",
       "0               2                 99   2019/6/27               1.04   \n",
       "1               1                  6   2019/6/28               0.06   \n",
       "2              30                 21   2018/12/1               0.22   \n",
       "3              30                 24    2019/4/4               0.26   \n",
       "4               2                111    2019/6/2               1.17   \n",
       "\n",
       "   calculated_host_listings_count  availability_365  \n",
       "0                               1               345  \n",
       "1                               3               115  \n",
       "2                               8               200  \n",
       "3                               8               271  \n",
       "4                               1                12  "
      ]
     },
     "execution_count": 12,
     "metadata": {},
     "output_type": "execute_result"
    }
   ],
   "source": [
    "df.head()"
   ]
  },
  {
   "cell_type": "code",
   "execution_count": 77,
   "metadata": {},
   "outputs": [
    {
     "data": {
      "text/html": [
       "<div>\n",
       "<style scoped>\n",
       "    .dataframe tbody tr th:only-of-type {\n",
       "        vertical-align: middle;\n",
       "    }\n",
       "\n",
       "    .dataframe tbody tr th {\n",
       "        vertical-align: top;\n",
       "    }\n",
       "\n",
       "    .dataframe thead th {\n",
       "        text-align: right;\n",
       "    }\n",
       "</style>\n",
       "<table border=\"1\" class=\"dataframe\">\n",
       "  <thead>\n",
       "    <tr style=\"text-align: right;\">\n",
       "      <th></th>\n",
       "      <th>host_name</th>\n",
       "      <th>number_of_reviews</th>\n",
       "    </tr>\n",
       "  </thead>\n",
       "  <tbody>\n",
       "    <tr>\n",
       "      <th>286</th>\n",
       "      <td>The Box House Hotel</td>\n",
       "      <td>694</td>\n",
       "    </tr>\n",
       "    <tr>\n",
       "      <th>136</th>\n",
       "      <td>Jason</td>\n",
       "      <td>495</td>\n",
       "    </tr>\n",
       "    <tr>\n",
       "      <th>187</th>\n",
       "      <td>Lori</td>\n",
       "      <td>493</td>\n",
       "    </tr>\n",
       "    <tr>\n",
       "      <th>82</th>\n",
       "      <td>Dennis</td>\n",
       "      <td>473</td>\n",
       "    </tr>\n",
       "    <tr>\n",
       "      <th>52</th>\n",
       "      <td>Carol</td>\n",
       "      <td>454</td>\n",
       "    </tr>\n",
       "    <tr>\n",
       "      <th>...</th>\n",
       "      <td>...</td>\n",
       "      <td>...</td>\n",
       "    </tr>\n",
       "    <tr>\n",
       "      <th>80</th>\n",
       "      <td>Delia</td>\n",
       "      <td>0</td>\n",
       "    </tr>\n",
       "    <tr>\n",
       "      <th>270</th>\n",
       "      <td>Sena</td>\n",
       "      <td>0</td>\n",
       "    </tr>\n",
       "    <tr>\n",
       "      <th>32</th>\n",
       "      <td>Asia Joanna</td>\n",
       "      <td>0</td>\n",
       "    </tr>\n",
       "    <tr>\n",
       "      <th>125</th>\n",
       "      <td>Jacqueline</td>\n",
       "      <td>0</td>\n",
       "    </tr>\n",
       "    <tr>\n",
       "      <th>104</th>\n",
       "      <td>Eziah</td>\n",
       "      <td>0</td>\n",
       "    </tr>\n",
       "  </tbody>\n",
       "</table>\n",
       "<p>315 rows × 2 columns</p>\n",
       "</div>"
      ],
      "text/plain": [
       "               host_name  number_of_reviews\n",
       "286  The Box House Hotel                694\n",
       "136                Jason                495\n",
       "187                 Lori                493\n",
       "82                Dennis                473\n",
       "52                 Carol                454\n",
       "..                   ...                ...\n",
       "80                 Delia                  0\n",
       "270                 Sena                  0\n",
       "32           Asia Joanna                  0\n",
       "125           Jacqueline                  0\n",
       "104                Eziah                  0\n",
       "\n",
       "[315 rows x 2 columns]"
      ]
     },
     "execution_count": 77,
     "metadata": {},
     "output_type": "execute_result"
    }
   ],
   "source": [
    "df.groupby(\"host_id\").sum().number_of_reviews\n",
    "df.groupby([\"host_name\"],as_index=False).agg(\"number_of_reviews\").sum().sort_values(\"number_of_reviews\",ascending=False)\n",
    "#这里只是分别取了两个的最大值\n",
    "# df1.max()\n",
    "# df1[df1.number_of_reviews==694]\n",
    "# df1.number_of_reviews.max()"
   ]
  },
  {
   "cell_type": "code",
   "execution_count": 74,
   "metadata": {},
   "outputs": [
    {
     "data": {
      "text/plain": [
       "149    The Box House Hotel\n",
       "165    The Box House Hotel\n",
       "166    The Box House Hotel\n",
       "167    The Box House Hotel\n",
       "171    The Box House Hotel\n",
       "172    The Box House Hotel\n",
       "173    The Box House Hotel\n",
       "174    The Box House Hotel\n",
       "175    The Box House Hotel\n",
       "176    The Box House Hotel\n",
       "177    The Box House Hotel\n",
       "178    The Box House Hotel\n",
       "179    The Box House Hotel\n",
       "181    The Box House Hotel\n",
       "324    The Box House Hotel\n",
       "326    The Box House Hotel\n",
       "328    The Box House Hotel\n",
       "329    The Box House Hotel\n",
       "330    The Box House Hotel\n",
       "333    The Box House Hotel\n",
       "Name: host_name, dtype: object"
      ]
     },
     "execution_count": 74,
     "metadata": {},
     "output_type": "execute_result"
    }
   ],
   "source": [
    "df[df.host_id==417504].host_name\n",
    "# df[df.name==\"The Box House Hotel\"]"
   ]
  },
  {
   "cell_type": "code",
   "execution_count": 47,
   "metadata": {},
   "outputs": [
    {
     "data": {
      "text/plain": [
       "401"
      ]
     },
     "execution_count": 47,
     "metadata": {},
     "output_type": "execute_result"
    }
   ],
   "source": [
    "df.number_of_reviews.max()"
   ]
  },
  {
   "cell_type": "code",
   "execution_count": 28,
   "metadata": {},
   "outputs": [
    {
     "data": {
      "text/plain": [
       "<matplotlib.axes._subplots.AxesSubplot at 0x143a27fdbb0>"
      ]
     },
     "execution_count": 28,
     "metadata": {},
     "output_type": "execute_result"
    },
    {
     "data": {
      "image/png": "[encoded data removed]",
      "text/plain": [
       "<Figure size 432x288 with 1 Axes>"
      ]
     },
     "metadata": {
      "needs_background": "light"
     },
     "output_type": "display_data"
    }
   ],
   "source": [
    "sns.countplot(data=df.sort_values(by=\"number_of_reviews\"),x=\"host_id\")"
   ]
  },
  {
   "cell_type": "code",
   "execution_count": null,
   "metadata": {},
   "outputs": [],
   "source": []
  }
 ],
 "metadata": {
  "kernelspec": {
   "display_name": "Python 3",
   "language": "python",
   "name": "python3"
  },
  "language_info": {
   "codemirror_mode": {
    "name": "ipython",
    "version": 3
   },
   "file_extension": ".py",
   "mimetype": "text/x-python",
   "name": "python",
   "nbconvert_exporter": "python",
   "pygments_lexer": "ipython3",
   "version": "3.8.3"
  }
 },
 "nbformat": 4,
 "nbformat_minor": 4
}

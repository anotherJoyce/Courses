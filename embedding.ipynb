{
  "nbformat": 4,
  "nbformat_minor": 0,
  "metadata": {
    "colab": {
      "name": "more on embedding.ipynb",
      "provenance": [],
      "collapsed_sections": []
    },
    "kernelspec": {
      "name": "python3",
      "display_name": "Python 3"
    }
  },
  "cells": [
    {
      "cell_type": "code",
      "metadata": {
        "colab": {
          "base_uri": "https://localhost:8080/"
        },
        "id": "SI-QKKVbZvlR",
        "outputId": "d049f259-06bf-4a83-ad90-83b8682bed49"
      },
      "source": [
        "from numpy import array\n",
        "from keras.preprocessing.text import one_hot\n",
        "from keras.preprocessing.sequence import pad_sequences\n",
        "from keras.models import Sequential\n",
        "from keras.layers import Dense\n",
        "from keras.layers import Flatten\n",
        "from keras.layers.embeddings import Embedding\n",
        "# define documents\n",
        "docs = ['Well done!',\n",
        "\t\t'Good work',\n",
        "\t\t'Great effort',\n",
        "\t\t'nice work',\n",
        "\t\t'Excellent!',\n",
        "\t\t'Weak',\n",
        "\t\t'Poor effort!',\n",
        "\t\t'not good',\n",
        "\t\t'poor work',\n",
        "\t\t'Could have done better.']\n",
        "\n",
        "# define class labels\n",
        "labels = array([1,1,1,1,1,0,0,0,0,0])\n",
        "# integer encode the documents\n",
        "vocab_size = 50\n",
        "encoded_docs = [one_hot(d, vocab_size) for d in docs]\n",
        "print(encoded_docs)\n",
        "# pad documents to a max length of 4 words\n",
        "max_length = 4\n",
        "padded_docs = pad_sequences(encoded_docs, maxlen=max_length, padding='post')\n",
        "print(padded_docs)\n",
        "\n",
        "\n",
        "# define the model\n",
        "model = Sequential()\n",
        "model.add(Embedding(vocab_size, 8, input_length=max_length))\n",
        "model.add(Flatten())\n",
        "model.add(Dense(1, activation='sigmoid'))\n",
        "\n",
        "# compile the model\n",
        "model.compile(optimizer='adam', loss='binary_crossentropy', metrics=['accuracy'])\n",
        "# summarize the model\n",
        "print(model.summary())\n",
        "# fit the model\n",
        "model.fit(padded_docs, labels, epochs=50, verbose=0)\n",
        "# evaluate the model\n",
        "loss, accuracy = model.evaluate(padded_docs, labels, verbose=0)\n",
        "print('Accuracy: %f' % (accuracy*100))"
      ],
      "execution_count": null,
      "outputs": [
        {
          "output_type": "stream",
          "text": [
            "[[30, 30], [16, 25], [17, 44], [20, 25], [43], [17], [34, 44], [48, 16], [34, 25], [49, 31, 30, 15]]\n",
            "[[30 30  0  0]\n",
            " [16 25  0  0]\n",
            " [17 44  0  0]\n",
            " [20 25  0  0]\n",
            " [43  0  0  0]\n",
            " [17  0  0  0]\n",
            " [34 44  0  0]\n",
            " [48 16  0  0]\n",
            " [34 25  0  0]\n",
            " [49 31 30 15]]\n",
            "Model: \"sequential_1\"\n",
            "_________________________________________________________________\n",
            "Layer (type)                 Output Shape              Param #   \n",
            "=================================================================\n",
            "embedding_1 (Embedding)      (None, 4, 8)              400       \n",
            "_________________________________________________________________\n",
            "flatten_1 (Flatten)          (None, 32)                0         \n",
            "_________________________________________________________________\n",
            "dense_1 (Dense)              (None, 1)                 33        \n",
            "=================================================================\n",
            "Total params: 433\n",
            "Trainable params: 433\n",
            "Non-trainable params: 0\n",
            "_________________________________________________________________\n",
            "None\n",
            "Accuracy: 100.000000\n"
          ],
          "name": "stdout"
        }
      ]
    },
    {
      "cell_type": "code",
      "metadata": {
        "colab": {
          "base_uri": "https://localhost:8080/"
        },
        "id": "sudlJ-FDZyju",
        "outputId": "0da684ad-c3e9-4820-d304-fa6d1559241c"
      },
      "source": [
        "len(model.get_weights()) # 3 because 3 layers."
      ],
      "execution_count": null,
      "outputs": [
        {
          "output_type": "execute_result",
          "data": {
            "text/plain": [
              "3"
            ]
          },
          "metadata": {
            "tags": []
          },
          "execution_count": 18
        }
      ]
    },
    {
      "cell_type": "code",
      "metadata": {
        "colab": {
          "base_uri": "https://localhost:8080/"
        },
        "id": "AC61XBW0Z06N",
        "outputId": "50fbace4-3828-42c6-b410-6bc20ff3d564"
      },
      "source": [
        "model.get_weights()[0].shape # weights of embedding\n",
        "# 50 words and output vector of 8"
      ],
      "execution_count": null,
      "outputs": [
        {
          "output_type": "execute_result",
          "data": {
            "text/plain": [
              "(50, 8)"
            ]
          },
          "metadata": {
            "tags": []
          },
          "execution_count": 19
        }
      ]
    },
    {
      "cell_type": "code",
      "metadata": {
        "colab": {
          "base_uri": "https://localhost:8080/"
        },
        "id": "yXrM7OzSeA5h",
        "outputId": "94f18b0d-8825-4f2d-9b18-05bc3b3acc90"
      },
      "source": [
        "model.get_weights()[0]"
      ],
      "execution_count": null,
      "outputs": [
        {
          "output_type": "execute_result",
          "data": {
            "text/plain": [
              "array([[ 0.05133361,  0.01514427,  0.08074942, -0.04129414,  0.03030681,\n",
              "         0.01738363, -0.01646128, -0.07771827],\n",
              "       [ 0.01229091, -0.01239631,  0.03169588,  0.01230127, -0.03703195,\n",
              "         0.03260769, -0.02261551,  0.00104643],\n",
              "       [-0.00454088, -0.00200701, -0.02168166,  0.00197184, -0.04925796,\n",
              "         0.0184604 , -0.04166036,  0.00207586],\n",
              "       [-0.03084027,  0.01909396, -0.03614576,  0.0104425 , -0.02396097,\n",
              "        -0.00065243,  0.02109274,  0.04264482],\n",
              "       [ 0.02135142, -0.01752476, -0.04731572,  0.02206513,  0.03975532,\n",
              "         0.02373991, -0.02998352, -0.02876381],\n",
              "       [-0.03585364,  0.00161831,  0.00101936, -0.01483341,  0.00710689,\n",
              "        -0.02857107,  0.00273716,  0.03748261],\n",
              "       [-0.00894002,  0.03700501,  0.03386292,  0.02416309,  0.01401779,\n",
              "         0.04706998,  0.0385999 ,  0.03973434],\n",
              "       [-0.0292569 , -0.04872965,  0.02427863, -0.01564193,  0.03460992,\n",
              "         0.02574285,  0.01047063,  0.01576691],\n",
              "       [-0.00597874, -0.04521991,  0.02460661,  0.01734852,  0.00927711,\n",
              "        -0.004259  , -0.03517975, -0.03777288],\n",
              "       [-0.01768745, -0.04110808, -0.03331089, -0.0092844 ,  0.011638  ,\n",
              "        -0.03385729,  0.0171127 ,  0.00427018],\n",
              "       [-0.02671256,  0.01044431, -0.00019507, -0.04150999, -0.04799591,\n",
              "        -0.0085774 , -0.00835236, -0.00044636],\n",
              "       [-0.008199  ,  0.01066902, -0.0438323 , -0.04023799,  0.02226934,\n",
              "        -0.0451703 , -0.01274967, -0.00449265],\n",
              "       [-0.01240584, -0.0084408 , -0.00055548,  0.03246505, -0.03870501,\n",
              "         0.00694121, -0.02280459,  0.02060587],\n",
              "       [-0.04074562, -0.01054851,  0.03409232, -0.01765499,  0.01825703,\n",
              "        -0.04914978, -0.02708818,  0.04321686],\n",
              "       [-0.02408197,  0.01490491,  0.04175094,  0.01047878,  0.0343535 ,\n",
              "        -0.02881432,  0.02334872,  0.03605719],\n",
              "       [-0.0956243 , -0.06389374, -0.09089544,  0.09732154, -0.08546121,\n",
              "        -0.07689027,  0.03592177,  0.07462851],\n",
              "       [-0.01936882, -0.06416103, -0.03586043, -0.05684342,  0.03903617,\n",
              "         0.05359214, -0.02659413, -0.02170727],\n",
              "       [ 0.02037666,  0.05158238,  0.0228913 ,  0.07549941, -0.05129579,\n",
              "        -0.02736114,  0.0022215 , -0.00079131],\n",
              "       [-0.02180749,  0.00537335,  0.03719488, -0.02932975,  0.00626358,\n",
              "        -0.0120003 ,  0.04880358, -0.0040883 ],\n",
              "       [ 0.0290415 ,  0.04161588,  0.01744356, -0.02346306,  0.04299511,\n",
              "        -0.02682635,  0.01464729, -0.04652908],\n",
              "       [-0.01522587, -0.09793383, -0.02834666, -0.05663561,  0.02027368,\n",
              "         0.04193024, -0.03984299,  0.09266031],\n",
              "       [ 0.01126368, -0.0091895 , -0.0151132 ,  0.0461938 , -0.04402578,\n",
              "        -0.00664101, -0.02101847, -0.01288102],\n",
              "       [ 0.03012237,  0.03005398, -0.00505893, -0.02165204,  0.00421084,\n",
              "         0.02011118, -0.04682986, -0.01140352],\n",
              "       [ 0.02857939, -0.03427464,  0.03340304,  0.00951146,  0.00924262,\n",
              "         0.01185169, -0.00558224, -0.03730435],\n",
              "       [-0.03020216,  0.0183134 ,  0.02452047, -0.03922837, -0.02112713,\n",
              "        -0.01502274,  0.03327577, -0.04133202],\n",
              "       [-0.09210359,  0.0123773 , -0.07949582,  0.04875248,  0.04929168,\n",
              "        -0.02558876, -0.06962704,  0.02229934],\n",
              "       [ 0.010069  , -0.03062625, -0.03843893,  0.0071702 , -0.02988901,\n",
              "         0.03978903,  0.02131554, -0.00270601],\n",
              "       [ 0.00638192,  0.04529413, -0.02828558, -0.0245002 ,  0.01526067,\n",
              "         0.04307648,  0.03723892,  0.01432525],\n",
              "       [-0.0125768 , -0.04332078, -0.00578362, -0.04786175,  0.00080504,\n",
              "        -0.00075446,  0.04840564,  0.01348109],\n",
              "       [ 0.01388342, -0.02399124,  0.00800108, -0.04591011, -0.03413823,\n",
              "         0.00156472,  0.03584317, -0.02624112],\n",
              "       [-0.01165912,  0.02926607, -0.0833197 ,  0.0628043 ,  0.07160136,\n",
              "         0.02122892, -0.04564944,  0.05055742],\n",
              "       [ 0.03665938, -0.09009039,  0.07929952, -0.01002487, -0.07229488,\n",
              "         0.06483566,  0.00898188, -0.00473626],\n",
              "       [ 0.03211183, -0.02125602, -0.037157  ,  0.0478765 ,  0.00031305,\n",
              "        -0.04154669,  0.03216798,  0.01811403],\n",
              "       [ 0.02194967,  0.00099913,  0.00868483, -0.03471826, -0.01553631,\n",
              "         0.03835361,  0.04013832,  0.01066713],\n",
              "       [ 0.05968629,  0.06514338,  0.06445479,  0.00162729, -0.09750126,\n",
              "        -0.09393299,  0.09591742, -0.048579  ],\n",
              "       [ 0.04087507,  0.0354239 ,  0.0216617 , -0.02951034, -0.01462623,\n",
              "         0.04397029,  0.03641877, -0.04405772],\n",
              "       [-0.0359877 , -0.03199313,  0.03912449,  0.0423854 ,  0.04075846,\n",
              "        -0.00110414, -0.00308273, -0.01113899],\n",
              "       [ 0.04277109,  0.01269693, -0.01786419, -0.036868  , -0.00469567,\n",
              "        -0.03140414, -0.00524462,  0.00716754],\n",
              "       [ 0.04131282, -0.03514669,  0.04909715, -0.04709332, -0.01453348,\n",
              "        -0.04446486,  0.01865694, -0.02124107],\n",
              "       [-0.04437617,  0.04203122,  0.01802284, -0.03341396, -0.01687192,\n",
              "         0.00709178, -0.01946541, -0.04496628],\n",
              "       [ 0.00370946, -0.04074495,  0.01504184,  0.0272947 , -0.00376999,\n",
              "         0.03215725,  0.04362902,  0.006374  ],\n",
              "       [ 0.04048174, -0.02450014,  0.01438742,  0.01581271,  0.0351768 ,\n",
              "         0.00203439, -0.0335476 , -0.00112835],\n",
              "       [ 0.01196561, -0.0116233 ,  0.01973655,  0.0065157 , -0.04262367,\n",
              "         0.03261676,  0.04299981,  0.03455556],\n",
              "       [-0.05102922, -0.03291191, -0.05177778, -0.08479659,  0.05523751,\n",
              "         0.03910709, -0.00105006,  0.04142006],\n",
              "       [ 0.01953598,  0.05982257, -0.05763346, -0.00389712, -0.02066416,\n",
              "         0.02567233, -0.02091227,  0.01987601],\n",
              "       [-0.00149007, -0.02041339,  0.04739383, -0.01924478, -0.04692218,\n",
              "         0.04432036,  0.01838003,  0.03575487],\n",
              "       [ 0.04716214,  0.0057441 ,  0.03535516, -0.03859758, -0.02306237,\n",
              "         0.04617163,  0.01583142,  0.03840419],\n",
              "       [-0.02461073,  0.04293798,  0.01938248,  0.00897198, -0.02634456,\n",
              "         0.04982444, -0.00722186,  0.03202226],\n",
              "       [ 0.02680889,  0.0329263 ,  0.08800343,  0.09267968, -0.09234469,\n",
              "        -0.01852256,  0.04927929, -0.03519665],\n",
              "       [ 0.013178  ,  0.01423416,  0.03692699,  0.01853352, -0.05856291,\n",
              "        -0.09705931,  0.01695869, -0.0710023 ]], dtype=float32)"
            ]
          },
          "metadata": {
            "tags": []
          },
          "execution_count": 20
        }
      ]
    },
    {
      "cell_type": "code",
      "metadata": {
        "colab": {
          "base_uri": "https://localhost:8080/"
        },
        "id": "B9vFph4Xu0I8",
        "outputId": "c3da43e4-f317-4fbf-fa7b-c929b1a51e6f"
      },
      "source": [
        "layer_names = []\n",
        "for layer in model.layers:\n",
        "    print(layer.name)\n",
        "    layer_names.append(layer.name)"
      ],
      "execution_count": null,
      "outputs": [
        {
          "output_type": "stream",
          "text": [
            "embedding_1\n",
            "flatten_1\n",
            "dense_1\n"
          ],
          "name": "stdout"
        }
      ]
    },
    {
      "cell_type": "code",
      "metadata": {
        "colab": {
          "base_uri": "https://localhost:8080/"
        },
        "id": "hdRMCkDsaoQE",
        "outputId": "df679635-b872-4e6e-89f1-36acb233ba25"
      },
      "source": [
        "import keras\n",
        "intermediate_layer_model = keras.Model(inputs=model.input,\n",
        "                                       outputs=model.get_layer(layer_names[0]).output)\n",
        "\n",
        "intermediate_output = intermediate_layer_model([15])\n",
        "intermediate_output"
      ],
      "execution_count": null,
      "outputs": [
        {
          "output_type": "execute_result",
          "data": {
            "text/plain": [
              "<tf.Tensor: shape=(8,), dtype=float32, numpy=\n",
              "array([-0.0956243 , -0.06389374, -0.09089544,  0.09732154, -0.08546121,\n",
              "       -0.07689027,  0.03592177,  0.07462851], dtype=float32)>"
            ]
          },
          "metadata": {
            "tags": []
          },
          "execution_count": 22
        }
      ]
    },
    {
      "cell_type": "code",
      "metadata": {
        "colab": {
          "base_uri": "https://localhost:8080/"
        },
        "id": "JTUSGx1hbk4K",
        "outputId": "18fcd470-c92d-44ac-88a1-c7a96280685a"
      },
      "source": [
        "model.get_weights()[0][15]"
      ],
      "execution_count": null,
      "outputs": [
        {
          "output_type": "execute_result",
          "data": {
            "text/plain": [
              "array([-0.0956243 , -0.06389374, -0.09089544,  0.09732154, -0.08546121,\n",
              "       -0.07689027,  0.03592177,  0.07462851], dtype=float32)"
            ]
          },
          "metadata": {
            "tags": []
          },
          "execution_count": 23
        }
      ]
    },
    {
      "cell_type": "code",
      "metadata": {
        "id": "maXSI7mKb28s"
      },
      "source": [
        "intermediate_output = intermediate_layer_model(array([[0,1]]))"
      ],
      "execution_count": null,
      "outputs": []
    },
    {
      "cell_type": "code",
      "metadata": {
        "colab": {
          "base_uri": "https://localhost:8080/"
        },
        "id": "4mcMaNhMcHkS",
        "outputId": "6a7418ca-bafe-47c6-cbcc-52e0076585a0"
      },
      "source": [
        "intermediate_output"
      ],
      "execution_count": null,
      "outputs": [
        {
          "output_type": "execute_result",
          "data": {
            "text/plain": [
              "<tf.Tensor: shape=(1, 2, 8), dtype=float32, numpy=\n",
              "array([[[ 0.05133361,  0.01514427,  0.08074942, -0.04129414,\n",
              "          0.03030681,  0.01738363, -0.01646128, -0.07771827],\n",
              "        [ 0.01229091, -0.01239631,  0.03169588,  0.01230127,\n",
              "         -0.03703195,  0.03260769, -0.02261551,  0.00104643]]],\n",
              "      dtype=float32)>"
            ]
          },
          "metadata": {
            "tags": []
          },
          "execution_count": 25
        }
      ]
    },
    {
      "cell_type": "code",
      "metadata": {
        "colab": {
          "base_uri": "https://localhost:8080/"
        },
        "id": "Y-ZLdbymcIxO",
        "outputId": "bf9eb801-8669-4bca-c3cd-d66fbaca1d93"
      },
      "source": [
        "model.get_weights()[0][13]"
      ],
      "execution_count": null,
      "outputs": [
        {
          "output_type": "execute_result",
          "data": {
            "text/plain": [
              "array([-0.04074562, -0.01054851,  0.03409232, -0.01765499,  0.01825703,\n",
              "       -0.04914978, -0.02708818,  0.04321686], dtype=float32)"
            ]
          },
          "metadata": {
            "tags": []
          },
          "execution_count": 26
        }
      ]
    },
    {
      "cell_type": "code",
      "metadata": {
        "colab": {
          "base_uri": "https://localhost:8080/"
        },
        "id": "WK9iUT3DcM1G",
        "outputId": "aa0619ce-5a94-4791-d3d5-03f0839fa26e"
      },
      "source": [
        "model.get_weights()[0][15]"
      ],
      "execution_count": null,
      "outputs": [
        {
          "output_type": "execute_result",
          "data": {
            "text/plain": [
              "array([-0.0956243 , -0.06389374, -0.09089544,  0.09732154, -0.08546121,\n",
              "       -0.07689027,  0.03592177,  0.07462851], dtype=float32)"
            ]
          },
          "metadata": {
            "tags": []
          },
          "execution_count": 27
        }
      ]
    },
    {
      "cell_type": "code",
      "metadata": {
        "id": "DmTukiF3cvUC"
      },
      "source": [
        ""
      ],
      "execution_count": null,
      "outputs": []
    }
  ]
}